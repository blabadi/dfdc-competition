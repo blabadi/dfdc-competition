{
 "cells": [
  {
   "cell_type": "code",
   "execution_count": 1,
   "metadata": {},
   "outputs": [
    {
     "name": "stdout",
     "output_type": "stream",
     "text": [
      "1.3.1\n"
     ]
    }
   ],
   "source": [
    "import torch\n",
    "import torch.nn.functional as F\n",
    "from torch.utils.data import DataLoader\n",
    "import pandas as pd\n",
    "import os\n",
    "import json\n",
    "import csv\n",
    "import math\n",
    "import numpy as np\n",
    "from sklearn.metrics import log_loss\n",
    "from sklearn.model_selection import train_test_split\n",
    "import cv2\n",
    "from tqdm.notebook import tqdm\n",
    "import glob\n",
    "import random\n",
    "import collections\n",
    "import gc\n",
    "from PIL import Image\n",
    "from matplotlib import pyplot as plt\n",
    "import warnings\n",
    "warnings.filterwarnings('ignore')\n",
    "print(torch.__version__)"
   ]
  },
  {
   "cell_type": "code",
   "execution_count": 2,
   "metadata": {
    "scrolled": true
   },
   "outputs": [
    {
     "name": "stdout",
     "output_type": "stream",
     "text": [
      "Int64Index([79200, 79319], dtype='int64')\n",
      "19154\n"
     ]
    }
   ],
   "source": [
    "with open('adjs.json', 'r') as filehandle:\n",
    "    adjs = json.load(filehandle)\n",
    "with open('pnames.json', 'r') as filehandle:\n",
    "    pnames = json.load(filehandle)\n",
    "    \n",
    "GPUS = torch.cuda.device_count()\n",
    "gpu = torch.device(\"cuda:0\" if torch.cuda.is_available() else \"cpu\")\n",
    "gpu\n",
    "\n",
    "def get_name():\n",
    "   return  random.sample(adjs, 1)[0] + \"_\" + random.sample(pnames, 1)[0] \n",
    "get_name()\n",
    "\n",
    "\n",
    "data_dir = '/home/ec2-user/dfdc/dfdc_ds/frames'\n",
    "img_dir = ''\n",
    "REAL = 0\n",
    "FAKE = 1\n",
    "\n",
    "meta = pd.read_csv(f'{data_dir}/metadata.csv', converters= {\n",
    "    'label': lambda x: FAKE if x == 'FAKE' else REAL,\n",
    "    'filename': lambda v: v.replace('.mp4', ''),\n",
    "    'original': lambda v: v.replace('.mp4', ''),\n",
    "    'folder': lambda v: int(v.split('_')[-1])\n",
    "})\n",
    "\n",
    "print(meta[meta['filename'].isin(['vulukprfvv', 'oebaztypsg'])].index)\n",
    "meta = meta.drop([79200, 79319])\n",
    "meta['label'].value_counts()\n",
    "realOnly = meta[meta['label'] == REAL].sort_values(by='folder')\n",
    "print(len(realOnly))\n",
    "allByFolder = meta.groupby('folder')\n",
    "# allByFolder.count()\n",
    "# pd.crosstab(meta['folder'], meta['label'], normalize='index').round(4) * 100\n",
    "#pd.crosstab(meta['folder'], meta['label'])\n"
   ]
  },
  {
   "cell_type": "markdown",
   "metadata": {},
   "source": [
    "# HYPER PARAMS"
   ]
  },
  {
   "cell_type": "code",
   "execution_count": 27,
   "metadata": {},
   "outputs": [],
   "source": [
    "#=======================\n",
    "SQR_IMG_SIDE=500     \n",
    "#=======================\n",
    "ARCH = 'resnext50_32x4d'\n",
    "#arch = 'resnet18'  \n",
    "TRAIN_BACK_TO = None\n",
    "if (GPUS > 1):\n",
    "    TRAIN_BACK_TO = \"module.layer2.0.conv1.weight\"\n",
    "else:\n",
    "    TRAIN_BACK_TO = \"layer2.0.conv1.weight\"\n",
    "DROP_OUT = 0.2\n",
    "#=======================\n",
    "# x 2 (we only specify fake)\n",
    "FAKE_TRAIN_SIZE = 5_000 \n",
    "TOTAL_TRAIN_SIZE = 10_000\n",
    "VAL_SEED = 991\n",
    "VAL_FOLDERS = range(30, 49)\n",
    "#================================\n",
    "BATCH_SIZE = 32\n",
    "EPOCHS = 25\n",
    "NUM_WORKERS = 16\n",
    "PIN = True\n",
    "if GPUS > 1:\n",
    "  BATCH_SIZE = 160\n",
    "  PIN = True\n",
    "  NUM_WORKERS = 48\n",
    "\n",
    "# see 'LR Finder' section below, this is just an arbitrary point between\n",
    "# lr max and min based on the LR/Loss graph\n",
    "LR = 7e-4\n",
    "OPTIMIZER = torch.optim.SGD\n",
    "#=================================="
   ]
  },
  {
   "cell_type": "code",
   "execution_count": 4,
   "metadata": {},
   "outputs": [],
   "source": [
    "\n",
    "def build_train_sample(size=2500, seed=None):\n",
    "    trainByFolderAndOriginal = meta[~meta['folder']\n",
    "                                .isin(VAL_FOLDERS)\n",
    "                               ].groupby(['folder', 'original'])\n",
    "    np.random.seed(seed) # change this for new train/val split\n",
    "    randomized_pairs = trainByFolderAndOriginal.agg(np.random.choice)\n",
    "    np.random.seed()\n",
    "    flattened = randomized_pairs.reset_index()\n",
    "    flattened.head()\n",
    "    OneFakePerOriginal = flattened.drop(flattened[flattened.original == ''].index)\n",
    "    OneFakePerOriginal = OneFakePerOriginal.sample(size)\n",
    "    realOfFake = OneFakePerOriginal['original']\n",
    "    print(len(OneFakePerOriginal)) # should be equivelant to the # of real videos far above!\n",
    "    t_fake = OneFakePerOriginal\n",
    "    t_real = OneFakePerOriginal.copy()\n",
    "    t_real = t_real.drop(columns=['filename'])\n",
    "    t_real = t_real.rename(columns={\"original\":\"filename\"})\n",
    "    t_real['label'] = 0\n",
    "    print(len(t_fake), len(t_real))\n",
    "    train = pd.concat([t_fake, t_real])\n",
    "    return train\n",
    "\n",
    "def build_train_df(seed=None):\n",
    "    trainByFolderAndOriginal = meta[~meta['folder']\n",
    "                                    .isin(VAL_FOLDERS)\n",
    "                                   ].groupby(['folder', 'original'])\n",
    "    np.random.seed(seed) # change this for new train/val split\n",
    "    randomized_pairs = trainByFolderAndOriginal.agg(np.random.choice)\n",
    "    np.random.seed()\n",
    "    flattened = randomized_pairs.reset_index()\n",
    "    flattened.head()\n",
    "    OneFakePerOriginal = flattened.drop(flattened[flattened.original == ''].index)\n",
    "    print(len(OneFakePerOriginal)) # should be equivelant to the # of real videos far above!\n",
    "    OneFakePerOriginal.head()\n",
    "    t_fake = OneFakePerOriginal\n",
    "    t_real = realOnly[~realOnly['folder'].isin(VAL_FOLDERS)]\n",
    "    print(len(t_fake), len(t_real))\n",
    "    train = pd.concat([t_fake, t_real])\n",
    "    return train\n",
    "    \n",
    "def build_val_df(seed=999):\n",
    "    valByFolderAndOriginal = meta[meta['folder']\n",
    "                                  .isin(VAL_FOLDERS)].groupby(['folder', 'original'])\n",
    "    np.random.seed(seed) # change this for new val split\n",
    "    randomized_pairs = valByFolderAndOriginal.agg(np.random.choice)\n",
    "    np.random.seed()\n",
    "    flattened = randomized_pairs.reset_index()\n",
    "    flattened.head()\n",
    "    OneFakePerOriginal = flattened.drop(flattened[flattened.original == ''].index)\n",
    "    print(len(OneFakePerOriginal)) # should be equivelant to the # of real videos far above!\n",
    "    OneFakePerOriginal.head()\n",
    "    v_fake = OneFakePerOriginal\n",
    "    v_real = realOnly[realOnly['folder'].isin(VAL_FOLDERS)]\n",
    "    print(len(v_fake), len(v_real))\n",
    "    val = pd.concat([v_fake, v_real])\n",
    "    return val\n"
   ]
  },
  {
   "cell_type": "code",
   "execution_count": null,
   "metadata": {},
   "outputs": [],
   "source": [
    "\n"
   ]
  },
  {
   "cell_type": "code",
   "execution_count": 5,
   "metadata": {},
   "outputs": [],
   "source": [
    "from torch.utils.data import Dataset\n",
    "from torchvision.transforms import Normalize\n",
    "import torchvision.transforms as transforms\n",
    "\n",
    "mean = [0.485, 0.456, 0.406]\n",
    "std = [0.229, 0.224, 0.225]\n",
    "\n",
    "class Unnormalize:\n",
    "    def __init__(self, mean, std):\n",
    "        self.mean = mean\n",
    "        self.std = std\n",
    "\n",
    "    def __call__(self, tensor):\n",
    "        mean = torch.as_tensor(self.mean, dtype=tensor.dtype, device=tensor.device).view(3, 1, 1)\n",
    "        std = torch.as_tensor(self.std, dtype=tensor.dtype, device=tensor.device).view(3, 1, 1)\n",
    "        return torch.clamp(tensor * std + mean, 0., 1.)\n",
    "    \n",
    "unnormalize_transform = Unnormalize(mean, std)\n",
    "\n",
    "def resize_image(img, size):\n",
    "    h, w = img.shape[:2]\n",
    "    if w > h:\n",
    "        h = h * size // w\n",
    "        w = size\n",
    "    else:\n",
    "        w = w * size // h\n",
    "        h = size\n",
    "\n",
    "    resized = cv2.resize(img, (w, h))\n",
    "    return resized\n",
    "\n",
    "\n",
    "def make_square_image(img):\n",
    "    h, w = img.shape[:2]\n",
    "    size = max(h, w)\n",
    "    t = 0\n",
    "    b = size - h\n",
    "    l = 0\n",
    "    r = size - w\n",
    "    return cv2.copyMakeBorder(img, t, b, l, r, cv2.BORDER_CONSTANT, value=0)\n",
    "\n",
    "import time as t\n",
    "timer = True\n",
    "\n",
    "def load_image_and_label(filename, cls, crops_dir, folder_num, image_size, augment):\n",
    "    \"\"\"Loads an image into a tensor. Also returns its label.\"\"\"\n",
    "    try:\n",
    "        files = os.listdir(f'{crops_dir}/dfdc_train_part_{str(folder_num)}/{filename}')\n",
    "        # only randomize frame per video in training set\n",
    "        if augment:\n",
    "            np.random.seed()\n",
    "            p = np.random.choice(np.array(files))\n",
    "        else:\n",
    "            np.random.seed(99)\n",
    "            p = np.random.choice(np.array(files))\n",
    "            np.random.seed()\n",
    "\n",
    "        img = cv2.imread(os.path.join(crops_dir, f'dfdc_train_part_{folder_num}', filename, p))\n",
    "        img = cv2.cvtColor(img, cv2.COLOR_BGR2RGB)\n",
    "\n",
    "        if (img.shape[0] > img.shape[1]):\n",
    "            img = img[0: int(img.shape[0] - (img.shape[0] * 0.30)), :]\n",
    "        else:\n",
    "            img = img[:, 0 + int(img.shape[1] * 0.15): int(img.shape[1] - img.shape[1] * 0.15)]\n",
    "        img = resize_image(img, image_size)\n",
    "        if augment: \n",
    "            im_pil = Image.fromarray(img)\n",
    "            train_trans = transforms.Compose([\n",
    "                transforms.RandomRotation(degrees=10),\n",
    "                transforms.RandomHorizontalFlip(),\n",
    "                transforms.ColorJitter(brightness=0.5, contrast=0, saturation=0, hue=0)\n",
    "            ])\n",
    "            img = train_trans(im_pil)\n",
    "            img = np.asarray(img)\n",
    "\n",
    "        img = make_square_image(img)\n",
    "        generic_trans = transforms.Compose([\n",
    "            transforms.ToTensor(),\n",
    "            transforms.Normalize([0.485, 0.456, 0.406],\n",
    "                                 [0.229, 0.224, 0.225])\n",
    "        ])\n",
    "        img = generic_trans(img)\n",
    "        target = cls\n",
    "        return img, target\n",
    "    except:\n",
    "        print(f'failed to load file: {filename}, folder: {folder_num}')\n",
    "        raise\n",
    "\n",
    "\n",
    "class MyDataset(Dataset):\n",
    "    def __init__(self, crops_dir, df, split, image_size, sample_size=None, seed=None):\n",
    "        self.crops_dir = crops_dir\n",
    "        self.split = split\n",
    "        self.image_size = image_size\n",
    "        self.df = df\n",
    "        num_real = len(self.df[self.df[\"label\"] == REAL])\n",
    "        num_fake = len(self.df[self.df[\"label\"] == FAKE])\n",
    "        print(\"%s dataset has %d real videos, %d fake videos\" % (split, num_real, num_fake))\n",
    "\n",
    "    def __getitem__(self, index):\n",
    "        row = self.df.iloc[index]\n",
    "        filename = row[\"filename\"]\n",
    "        cls = row[\"label\"]\n",
    "        folder_num = row['folder']\n",
    "        return load_image_and_label(filename, \n",
    "                                    cls, \n",
    "                                    self.crops_dir, \n",
    "                                    folder_num,\n",
    "                                    self.image_size, \n",
    "                                    self.split == \"train\")\n",
    "    def __len__(self):\n",
    "        return len(self.df)"
   ]
  },
  {
   "cell_type": "markdown",
   "metadata": {},
   "source": [
    "# Training Loops"
   ]
  },
  {
   "cell_type": "code",
   "execution_count": null,
   "metadata": {},
   "outputs": [],
   "source": [
    "def evaluate(net, data_loader, device, silent=False):\n",
    "    net.train(False)\n",
    "    bce_loss = 0\n",
    "    total_examples = 0\n",
    "\n",
    "    with tqdm(total=len(data_loader), desc=\"Evaluation\", leave=False, disable=silent) as pbar:\n",
    "        for batch_idx, data in enumerate(data_loader):\n",
    "            with torch.no_grad():\n",
    "                batch_size = data[0].shape[0]\n",
    "                x = data[0].to(device)\n",
    "                y_true = data[1].to(device).float()\n",
    "\n",
    "                y_pred = net(x)\n",
    "                y_pred = y_pred.squeeze()\n",
    "\n",
    "                bce_loss += F.binary_cross_entropy_with_logits(y_pred, y_true).item() * batch_size\n",
    "\n",
    "            total_examples += batch_size\n",
    "            pbar.update()\n",
    "\n",
    "    bce_loss /= total_examples\n",
    "    return bce_loss"
   ]
  },
  {
   "cell_type": "code",
   "execution_count": 7,
   "metadata": {},
   "outputs": [],
   "source": [
    "fieldnames = ['epoch', 'batch_size', 'lr', 'tloss', 'vloss']\n",
    "def init_log():\n",
    "     with open(f'{name}_{GPUS}xGPU_{ARCH}.csv', 'w') as csvfile:\n",
    "        writer = csv.DictWriter(csvfile, fieldnames=fieldnames)\n",
    "        writer.writeheader()\n",
    "def log_epoch(data):\n",
    "    with open(f'{name}_{GPUS}xGPU_{ARCH}.csv', 'a') as csvfile:\n",
    "        writer = csv.DictWriter(csvfile, fieldnames=fieldnames)\n",
    "        if (data is not None):\n",
    "            writer.writerow(data)\n"
   ]
  },
  {
   "cell_type": "code",
   "execution_count": 8,
   "metadata": {},
   "outputs": [],
   "source": [
    "def fit(epochs, cp=True, log=True):\n",
    "    global history, iteration, epochs_done, lr\n",
    "\n",
    "    with tqdm(total=len(tdl), leave=False) as pbar:\n",
    "        for epoch in range(epochs):\n",
    "            pbar.reset()\n",
    "            pbar.set_description(\"Epoch %d\" % (epochs_done + 1))\n",
    "            bce_loss = 0\n",
    "            total_examples = 0\n",
    "            net.train(True)\n",
    "            for batch_idx, data in enumerate(tdl):\n",
    "                batch_size = data[0].shape[0]\n",
    "                x = data[0].to(gpu)\n",
    "                y_true = data[1].to(gpu).float()\n",
    "                \n",
    "                optimizer.zero_grad()\n",
    "\n",
    "                y_pred = net(x)\n",
    "                y_pred = y_pred.squeeze()\n",
    "                \n",
    "                loss = F.binary_cross_entropy_with_logits(y_pred, y_true)\n",
    "                loss.backward()\n",
    "                optimizer.step()\n",
    "                \n",
    "                batch_bce = loss.item()\n",
    "                bce_loss += batch_bce * batch_size\n",
    "                history[\"train_bce\"].append(batch_bce)\n",
    "                total_examples += batch_size\n",
    "                iloss = round(bce_loss / total_examples, 4)\n",
    "                pbar.set_description(f\"Epoch {epochs_done + 1} (loss:{iloss}) \")\n",
    "                \n",
    "                ## LR scheduler TBD ##\n",
    "        \n",
    "                iteration += 1\n",
    "                pbar.update()\n",
    "\n",
    "            bce_loss /= total_examples\n",
    "            epochs_done += 1\n",
    "\n",
    "            print(\"Epoch: %3d, train BCE: %.4f\" % (epochs_done, bce_loss))\n",
    "\n",
    "            val_bce_loss = evaluate(net, vdl, device=gpu, silent=False)\n",
    "            history[\"val_bce\"].append(val_bce_loss)\n",
    "            \n",
    "            print(\"              val BCE: %.4f\" % (val_bce_loss))\n",
    "            \n",
    "            \n",
    "            if (log):\n",
    "                log_epoch({\n",
    "                    'epoch': epochs_done,\n",
    "                    'batch_size': batch_size,\n",
    "                    'lr': LR,\n",
    "                    'tloss': bce_loss,\n",
    "                    'vloss': val_bce_loss\n",
    "                })\n",
    "            \n",
    "            if (cp == True \n",
    "                and (len(history['val_bce']) == 0 \n",
    "                     or val_bce_loss <= np.min(np.array(history['val_bce'])))\n",
    "               ):\n",
    "                if hasattr(net, 'module'):\n",
    "                    torch.save({\n",
    "                            'epoch': epochs_done,\n",
    "                            'model_state_dict': net.module.state_dict(),\n",
    "                            'optimizer_state_dict': optimizer.state_dict(),\n",
    "                            'loss': val_bce_loss\n",
    "                            }, f\"{name}.ckpt.pth\")\n",
    "                    print(f'saved: {name}.ckpt.pth')\n",
    "                else:\n",
    "                    torch.save({\n",
    "                            'epoch': epochs_done,\n",
    "                            'model_state_dict': net.state_dict(),\n",
    "                            'optimizer_state_dict': optimizer.state_dict(),\n",
    "                            'loss': val_bce_loss\n",
    "                            }, f\"{name}.ckpt.pth\")\n",
    "                    print(f'saved: {name}.ckpt.pth')\n",
    "    "
   ]
  },
  {
   "cell_type": "markdown",
   "metadata": {},
   "source": [
    "# Model "
   ]
  },
  {
   "cell_type": "code",
   "execution_count": 9,
   "metadata": {},
   "outputs": [],
   "source": [
    "import torchvision.models as models\n",
    "import torch.nn as nn\n",
    "\n",
    "##Load new model\n",
    "def get_model(pretrained = True, model=''):\n",
    "    model = torch.hub.load('pytorch/vision:v0.5.0', \n",
    "                           ARCH, \n",
    "                           pretrained=pretrained)\n",
    "    num_ftrs = model.fc.in_features\n",
    "    model.fc = nn.Sequential(\n",
    "        nn.Dropout(DROP_OUT),\n",
    "        nn.Linear(num_ftrs, 1)\n",
    "    )\n",
    "    return model\n",
    "\n",
    "def freeze_until(net, param_name):\n",
    "    found_name = False\n",
    "    for name, params in net.named_parameters():\n",
    "        if name == param_name:\n",
    "            found_name = True\n",
    "        params.requires_grad = found_name"
   ]
  },
  {
   "cell_type": "code",
   "execution_count": 10,
   "metadata": {},
   "outputs": [],
   "source": [
    "def load_model_from_checkpoint(name):\n",
    "    model = get_model(False)\n",
    "    name = f'{name}.ckpt.pth'\n",
    "    checkpoint = torch.load(name)\n",
    "    model.load_state_dict(checkpoint['model_state_dict'])\n",
    "#     optimizer.load_state_dict(checkpoint['optimizer_state_dict'])\n",
    "    epoch = checkpoint['epoch']\n",
    "    loss = checkpoint['loss']\n",
    "    return model, epoch\n",
    "\n"
   ]
  },
  {
   "cell_type": "markdown",
   "metadata": {},
   "source": [
    "# Training Data loader Parameters"
   ]
  },
  {
   "cell_type": "code",
   "execution_count": 11,
   "metadata": {},
   "outputs": [
    {
     "name": "stdout",
     "output_type": "stream",
     "text": [
      "5000\n",
      "5000 5000\n",
      "8091\n",
      "8091 8091\n"
     ]
    }
   ],
   "source": [
    "train = build_train_sample(size=FAKE_TRAIN_SIZE)\n",
    "val = build_val_df(VAL_SEED)\n",
    "val.head()\n",
    "val_len = len(val)\n",
    "train_len = len(train)"
   ]
  },
  {
   "cell_type": "code",
   "execution_count": 12,
   "metadata": {},
   "outputs": [
    {
     "name": "stdout",
     "output_type": "stream",
     "text": [
      "10000 16182\n",
      "['vnrjpyqjxd' 17 1920 1 'egzyxqihni' 'train' 1080]\n"
     ]
    },
    {
     "data": {
      "text/plain": [
       "<matplotlib.image.AxesImage at 0x7f7e4a49c080>"
      ]
     },
     "execution_count": 12,
     "metadata": {},
     "output_type": "execute_result"
    },
    {
     "data": {
      "image/png": "[encoded data removed]",
      "text/plain": [
       "<Figure size 432x288 with 1 Axes>"
      ]
     },
     "metadata": {},
     "output_type": "display_data"
    }
   ],
   "source": [
    "print(train_len, val_len)\n",
    "r = train.sample().values[0]\n",
    "print(r)\n",
    "img_tensor, label = load_image_and_label(r[0], 1, data_dir, r[1], SQR_IMG_SIDE, False)\n",
    "plt.imshow(unnormalize_transform(img_tensor).permute(1, 2, 0))"
   ]
  },
  {
   "cell_type": "code",
   "execution_count": 13,
   "metadata": {},
   "outputs": [
    {
     "name": "stdout",
     "output_type": "stream",
     "text": [
      "train dataset has 5000 real videos, 5000 fake videos\n",
      "val dataset has 8091 real videos, 8091 fake videos\n"
     ]
    }
   ],
   "source": [
    "train_ds = MyDataset(data_dir, train, 'train', SQR_IMG_SIDE)\n",
    "val_ds = MyDataset(data_dir, val, 'val', SQR_IMG_SIDE)"
   ]
  },
  {
   "cell_type": "code",
   "execution_count": 14,
   "metadata": {},
   "outputs": [
    {
     "name": "stdout",
     "output_type": "stream",
     "text": [
      "CPU times: user 122 µs, sys: 5 µs, total: 127 µs\n",
      "Wall time: 134 µs\n"
     ]
    }
   ],
   "source": [
    "%%time\n",
    "def create_data_loaders():\n",
    "    train_loader = DataLoader(train_ds, batch_size=BATCH_SIZE, shuffle=True, \n",
    "                              num_workers=NUM_WORKERS, pin_memory=PIN)\n",
    "    val_loader = DataLoader(val_ds, batch_size=BATCH_SIZE, shuffle=False, \n",
    "                            num_workers=NUM_WORKERS, pin_memory=PIN)\n",
    "\n",
    "    return train_loader, val_loader\n",
    "\n",
    "tdl, vdl = create_data_loaders()\n",
    "\n"
   ]
  },
  {
   "cell_type": "code",
   "execution_count": null,
   "metadata": {},
   "outputs": [],
   "source": [
    "# vit = iter(vdl)\n",
    "# X, y = next(vit)\n",
    "# plt.imshow(unnormalize_transform(X[0]).permute(1, 2, 0))\n",
    "# print(y[0])\n",
    "# del vit"
   ]
  },
  {
   "cell_type": "code",
   "execution_count": null,
   "metadata": {},
   "outputs": [],
   "source": [
    "# itr = iter(tdl)\n",
    "# X, y = next(itr)\n",
    "# print(X.size())\n",
    "# plt.imshow(unnormalize_transform(X[0]).permute(1, 2, 0))\n",
    "# print(y[0])\n",
    "# del itr\n",
    "# del X\n",
    "# del y"
   ]
  },
  {
   "cell_type": "markdown",
   "metadata": {},
   "source": [
    "# Training "
   ]
  },
  {
   "cell_type": "code",
   "execution_count": 15,
   "metadata": {},
   "outputs": [
    {
     "data": {
      "text/plain": [
       "'versed_Deino'"
      ]
     },
     "execution_count": 15,
     "metadata": {},
     "output_type": "execute_result"
    }
   ],
   "source": [
    "name = get_name()\n",
    "init_log()\n",
    "name"
   ]
  },
  {
   "cell_type": "code",
   "execution_count": 16,
   "metadata": {},
   "outputs": [],
   "source": [
    "history = { \"train_bce\": [], \"val_bce\": [] }\n",
    "iteration = 0"
   ]
  },
  {
   "cell_type": "code",
   "execution_count": null,
   "metadata": {},
   "outputs": [],
   "source": [
    "# Load existing model to resume\n",
    "#  model, epochs_done = load_model_from_checkpoint()"
   ]
  },
  {
   "cell_type": "code",
   "execution_count": 17,
   "metadata": {},
   "outputs": [
    {
     "name": "stderr",
     "output_type": "stream",
     "text": [
      "Using cache found in /home/ec2-user/.cache/torch/hub/pytorch_vision_v0.5.0\n"
     ]
    }
   ],
   "source": [
    "# Load new Model\n",
    "model = get_model(True)\n",
    "epochs_done = 0"
   ]
  },
  {
   "cell_type": "code",
   "execution_count": 18,
   "metadata": {},
   "outputs": [],
   "source": [
    "if GPUS > 1:\n",
    "  print(\"Let's use\", torch.cuda.device_count(), \"GPUs!\")\n",
    "  model = nn.DataParallel(model)\n",
    "net = model.to(gpu)"
   ]
  },
  {
   "cell_type": "code",
   "execution_count": 19,
   "metadata": {},
   "outputs": [],
   "source": [
    "freeze_until(net, TRAIN_BACK_TO)"
   ]
  },
  {
   "cell_type": "code",
   "execution_count": 20,
   "metadata": {},
   "outputs": [
    {
     "data": {
      "text/plain": [
       "['layer2.0.conv1.weight',\n",
       " 'layer2.0.bn1.weight',\n",
       " 'layer2.0.bn1.bias',\n",
       " 'layer2.0.conv2.weight',\n",
       " 'layer2.0.bn2.weight',\n",
       " 'layer2.0.bn2.bias',\n",
       " 'layer2.0.conv3.weight',\n",
       " 'layer2.0.bn3.weight',\n",
       " 'layer2.0.bn3.bias',\n",
       " 'layer2.0.downsample.0.weight',\n",
       " 'layer2.0.downsample.1.weight',\n",
       " 'layer2.0.downsample.1.bias',\n",
       " 'layer2.1.conv1.weight',\n",
       " 'layer2.1.bn1.weight',\n",
       " 'layer2.1.bn1.bias',\n",
       " 'layer2.1.conv2.weight',\n",
       " 'layer2.1.bn2.weight',\n",
       " 'layer2.1.bn2.bias',\n",
       " 'layer2.1.conv3.weight',\n",
       " 'layer2.1.bn3.weight',\n",
       " 'layer2.1.bn3.bias',\n",
       " 'layer2.2.conv1.weight',\n",
       " 'layer2.2.bn1.weight',\n",
       " 'layer2.2.bn1.bias',\n",
       " 'layer2.2.conv2.weight',\n",
       " 'layer2.2.bn2.weight',\n",
       " 'layer2.2.bn2.bias',\n",
       " 'layer2.2.conv3.weight',\n",
       " 'layer2.2.bn3.weight',\n",
       " 'layer2.2.bn3.bias',\n",
       " 'layer2.3.conv1.weight',\n",
       " 'layer2.3.bn1.weight',\n",
       " 'layer2.3.bn1.bias',\n",
       " 'layer2.3.conv2.weight',\n",
       " 'layer2.3.bn2.weight',\n",
       " 'layer2.3.bn2.bias',\n",
       " 'layer2.3.conv3.weight',\n",
       " 'layer2.3.bn3.weight',\n",
       " 'layer2.3.bn3.bias',\n",
       " 'layer3.0.conv1.weight',\n",
       " 'layer3.0.bn1.weight',\n",
       " 'layer3.0.bn1.bias',\n",
       " 'layer3.0.conv2.weight',\n",
       " 'layer3.0.bn2.weight',\n",
       " 'layer3.0.bn2.bias',\n",
       " 'layer3.0.conv3.weight',\n",
       " 'layer3.0.bn3.weight',\n",
       " 'layer3.0.bn3.bias',\n",
       " 'layer3.0.downsample.0.weight',\n",
       " 'layer3.0.downsample.1.weight',\n",
       " 'layer3.0.downsample.1.bias',\n",
       " 'layer3.1.conv1.weight',\n",
       " 'layer3.1.bn1.weight',\n",
       " 'layer3.1.bn1.bias',\n",
       " 'layer3.1.conv2.weight',\n",
       " 'layer3.1.bn2.weight',\n",
       " 'layer3.1.bn2.bias',\n",
       " 'layer3.1.conv3.weight',\n",
       " 'layer3.1.bn3.weight',\n",
       " 'layer3.1.bn3.bias',\n",
       " 'layer3.2.conv1.weight',\n",
       " 'layer3.2.bn1.weight',\n",
       " 'layer3.2.bn1.bias',\n",
       " 'layer3.2.conv2.weight',\n",
       " 'layer3.2.bn2.weight',\n",
       " 'layer3.2.bn2.bias',\n",
       " 'layer3.2.conv3.weight',\n",
       " 'layer3.2.bn3.weight',\n",
       " 'layer3.2.bn3.bias',\n",
       " 'layer3.3.conv1.weight',\n",
       " 'layer3.3.bn1.weight',\n",
       " 'layer3.3.bn1.bias',\n",
       " 'layer3.3.conv2.weight',\n",
       " 'layer3.3.bn2.weight',\n",
       " 'layer3.3.bn2.bias',\n",
       " 'layer3.3.conv3.weight',\n",
       " 'layer3.3.bn3.weight',\n",
       " 'layer3.3.bn3.bias',\n",
       " 'layer3.4.conv1.weight',\n",
       " 'layer3.4.bn1.weight',\n",
       " 'layer3.4.bn1.bias',\n",
       " 'layer3.4.conv2.weight',\n",
       " 'layer3.4.bn2.weight',\n",
       " 'layer3.4.bn2.bias',\n",
       " 'layer3.4.conv3.weight',\n",
       " 'layer3.4.bn3.weight',\n",
       " 'layer3.4.bn3.bias',\n",
       " 'layer3.5.conv1.weight',\n",
       " 'layer3.5.bn1.weight',\n",
       " 'layer3.5.bn1.bias',\n",
       " 'layer3.5.conv2.weight',\n",
       " 'layer3.5.bn2.weight',\n",
       " 'layer3.5.bn2.bias',\n",
       " 'layer3.5.conv3.weight',\n",
       " 'layer3.5.bn3.weight',\n",
       " 'layer3.5.bn3.bias',\n",
       " 'layer4.0.conv1.weight',\n",
       " 'layer4.0.bn1.weight',\n",
       " 'layer4.0.bn1.bias',\n",
       " 'layer4.0.conv2.weight',\n",
       " 'layer4.0.bn2.weight',\n",
       " 'layer4.0.bn2.bias',\n",
       " 'layer4.0.conv3.weight',\n",
       " 'layer4.0.bn3.weight',\n",
       " 'layer4.0.bn3.bias',\n",
       " 'layer4.0.downsample.0.weight',\n",
       " 'layer4.0.downsample.1.weight',\n",
       " 'layer4.0.downsample.1.bias',\n",
       " 'layer4.1.conv1.weight',\n",
       " 'layer4.1.bn1.weight',\n",
       " 'layer4.1.bn1.bias',\n",
       " 'layer4.1.conv2.weight',\n",
       " 'layer4.1.bn2.weight',\n",
       " 'layer4.1.bn2.bias',\n",
       " 'layer4.1.conv3.weight',\n",
       " 'layer4.1.bn3.weight',\n",
       " 'layer4.1.bn3.bias',\n",
       " 'layer4.2.conv1.weight',\n",
       " 'layer4.2.bn1.weight',\n",
       " 'layer4.2.bn1.bias',\n",
       " 'layer4.2.conv2.weight',\n",
       " 'layer4.2.bn2.weight',\n",
       " 'layer4.2.bn2.bias',\n",
       " 'layer4.2.conv3.weight',\n",
       " 'layer4.2.bn3.weight',\n",
       " 'layer4.2.bn3.bias',\n",
       " 'fc.1.weight',\n",
       " 'fc.1.bias']"
      ]
     },
     "execution_count": 20,
     "metadata": {},
     "output_type": "execute_result"
    }
   ],
   "source": [
    "[k for k,v in net.named_parameters() if v.requires_grad]"
   ]
  },
  {
   "cell_type": "markdown",
   "metadata": {},
   "source": [
    "### Fit"
   ]
  },
  {
   "cell_type": "code",
   "execution_count": 28,
   "metadata": {
    "scrolled": true
   },
   "outputs": [
    {
     "data": {
      "text/plain": [
       "SGD (\n",
       "Parameter Group 0\n",
       "    dampening: 0\n",
       "    lr: 0.0007\n",
       "    momentum: 0.9\n",
       "    nesterov: False\n",
       "    weight_decay: 0\n",
       ")"
      ]
     },
     "execution_count": 28,
     "metadata": {},
     "output_type": "execute_result"
    }
   ],
   "source": [
    "optimizer = OPTIMIZER(net.parameters(), lr = LR, momentum=0.9) \n",
    "optimizer"
   ]
  },
  {
   "cell_type": "code",
   "execution_count": 29,
   "metadata": {},
   "outputs": [
    {
     "data": {
      "application/vnd.jupyter.widget-view+json": {
       "model_id": "",
       "version_major": 2,
       "version_minor": 0
      },
      "text/plain": [
       "HBox(children=(IntProgress(value=0, max=313), HTML(value='')))"
      ]
     },
     "metadata": {},
     "output_type": "display_data"
    },
    {
     "name": "stdout",
     "output_type": "stream",
     "text": [
      "Epoch:  21, train BCE: 0.1714\n"
     ]
    },
    {
     "data": {
      "application/vnd.jupyter.widget-view+json": {
       "model_id": "",
       "version_major": 2,
       "version_minor": 0
      },
      "text/plain": [
       "HBox(children=(IntProgress(value=0, description='Evaluation', max=506, style=ProgressStyle(description_width='…"
      ]
     },
     "metadata": {},
     "output_type": "display_data"
    },
    {
     "name": "stdout",
     "output_type": "stream",
     "text": [
      "BCE: 0.4469\n",
      "              val BCE: 0.4469\n",
      "saved: versed_Deino.ckpt.pth\n",
      "Epoch:  22, train BCE: 0.1586\n"
     ]
    },
    {
     "data": {
      "application/vnd.jupyter.widget-view+json": {
       "model_id": "",
       "version_major": 2,
       "version_minor": 0
      },
      "text/plain": [
       "HBox(children=(IntProgress(value=0, description='Evaluation', max=506, style=ProgressStyle(description_width='…"
      ]
     },
     "metadata": {},
     "output_type": "display_data"
    },
    {
     "name": "stdout",
     "output_type": "stream",
     "text": [
      "BCE: 0.4768\n",
      "              val BCE: 0.4768\n",
      "Epoch:  23, train BCE: 0.1600\n"
     ]
    },
    {
     "data": {
      "application/vnd.jupyter.widget-view+json": {
       "model_id": "",
       "version_major": 2,
       "version_minor": 0
      },
      "text/plain": [
       "HBox(children=(IntProgress(value=0, description='Evaluation', max=506, style=ProgressStyle(description_width='…"
      ]
     },
     "metadata": {},
     "output_type": "display_data"
    },
    {
     "name": "stdout",
     "output_type": "stream",
     "text": [
      "BCE: 0.4727\n",
      "              val BCE: 0.4727\n",
      "Epoch:  24, train BCE: 0.1591\n"
     ]
    },
    {
     "data": {
      "application/vnd.jupyter.widget-view+json": {
       "model_id": "",
       "version_major": 2,
       "version_minor": 0
      },
      "text/plain": [
       "HBox(children=(IntProgress(value=0, description='Evaluation', max=506, style=ProgressStyle(description_width='…"
      ]
     },
     "metadata": {},
     "output_type": "display_data"
    },
    {
     "name": "stdout",
     "output_type": "stream",
     "text": [
      "BCE: 0.4733\n",
      "              val BCE: 0.4733\n",
      "Epoch:  25, train BCE: 0.1552\n"
     ]
    },
    {
     "data": {
      "application/vnd.jupyter.widget-view+json": {
       "model_id": "",
       "version_major": 2,
       "version_minor": 0
      },
      "text/plain": [
       "HBox(children=(IntProgress(value=0, description='Evaluation', max=506, style=ProgressStyle(description_width='…"
      ]
     },
     "metadata": {},
     "output_type": "display_data"
    },
    {
     "name": "stdout",
     "output_type": "stream",
     "text": [
      "BCE: 0.5006\n",
      "              val BCE: 0.5006\n",
      "\r"
     ]
    }
   ],
   "source": [
    "# epochs done is subtracted in case of interruption\n",
    "fit(EPOCHS - epochs_done)"
   ]
  },
  {
   "cell_type": "markdown",
   "metadata": {},
   "source": [
    "# LR Finder\n",
    "\n",
    "https://towardsdatascience.com/adaptive-and-cyclical-learning-rates-using-pytorch-2bf904d18dee\n",
    "\n",
    "https://github.com/TDehaene/blogposts/blob/master/learning_rates/notebooks/Model%20training.ipynb\n"
   ]
  },
  {
   "cell_type": "code",
   "execution_count": null,
   "metadata": {},
   "outputs": [],
   "source": [
    "tnet = get_model(True).to(gpu)"
   ]
  },
  {
   "cell_type": "code",
   "execution_count": null,
   "metadata": {},
   "outputs": [],
   "source": [
    "freeze_until(tnet, TRAIN_BACK_TO)\n",
    "START_LR = 1e-6\n",
    "END_LR = 0.1\n",
    "SMOOTHING_LR_LOSS = 0.05\n",
    "LR_FIND_EPOCHS = 2\n",
    "lr_lambda = lambda x: math.exp(x * math.log(END_LR / START_LR) / (LR_FIND_EPOCHS * len(tdl)))\n",
    "optimizer = OPTIMIZER(tnet.parameters(), lr = START_LR) \n",
    "lr_scheduler = torch.optim.lr_scheduler.LambdaLR(optimizer, lr_lambda)"
   ]
  },
  {
   "cell_type": "code",
   "execution_count": null,
   "metadata": {},
   "outputs": [],
   "source": [
    "\n",
    "def lr_finder(epochs, cp=True, log=True):\n",
    "    lr_history = { \"train_bce\": [],\"lr_loss\": [], \"lr_steps\": [] }\n",
    "    iteration = 0\n",
    "    epochs_done = 0\n",
    "    with tqdm(total=len(tdl), leave=False) as pbar:\n",
    "        for epoch in range(epochs):\n",
    "            pbar.reset()\n",
    "            pbar.set_description(\"Epoch %d\" % (epochs_done + 1))\n",
    "            bce_loss = 0\n",
    "            total_examples = 0\n",
    "            tnet.train(True)\n",
    "            for batch_idx, data in enumerate(tdl):\n",
    "                batch_size = data[0].shape[0]\n",
    "                x = data[0].to(gpu)\n",
    "                y_true = data[1].to(gpu).float()\n",
    "                optimizer.zero_grad()\n",
    "                y_pred = tnet(x)\n",
    "                y_pred = y_pred.squeeze()\n",
    "                loss = F.binary_cross_entropy_with_logits(y_pred, y_true)\n",
    "                loss.backward()\n",
    "                optimizer.step()\n",
    "                batch_bce = loss.item()\n",
    "                bce_loss += batch_bce * batch_size\n",
    "                lr_history[\"train_bce\"].append(batch_bce)\n",
    "                total_examples += batch_size\n",
    "                iloss = round(bce_loss / total_examples, 4)\n",
    "                pbar.set_description(f\"Epoch {epochs_done + 1} (loss:{iloss}) \")\n",
    "                \n",
    "                ## LR scheduler\n",
    "                lr_scheduler.step()\n",
    "                lr_step = optimizer.state_dict()[\"param_groups\"][0][\"lr\"]\n",
    "                lr_history[\"lr_steps\"].append(lr_step)\n",
    "\n",
    "                # smooth the loss\n",
    "                if iteration == 0:\n",
    "                  lr_history[\"lr_loss\"].append(batch_bce)\n",
    "                else:\n",
    "                  lr_loss = SMOOTHING_LR_LOSS  * batch_bce \\\n",
    "                        + (1 - SMOOTHING_LR_LOSS) * lr_history[\"lr_loss\"][-1]\n",
    "                  lr_history[\"lr_loss\"].append(lr_loss)\n",
    "        \n",
    "                iteration += 1\n",
    "                pbar.update()\n",
    "\n",
    "            bce_loss /= total_examples\n",
    "            epochs_done += 1\n",
    "            print(\"Epoch: %3d, train BCE: %.4f\" % (epochs_done, bce_loss))\n",
    "\n",
    "    return lr_history"
   ]
  },
  {
   "cell_type": "code",
   "execution_count": null,
   "metadata": {},
   "outputs": [],
   "source": [
    "h = lr_finder(LR_FIND_EPOCHS)\n",
    "del tnet\n",
    "del optimizer"
   ]
  },
  {
   "cell_type": "code",
   "execution_count": null,
   "metadata": {},
   "outputs": [],
   "source": [
    "fig = plt.figure(figsize=(20,10))\n",
    "plt.ylabel(\"loss\")\n",
    "plt.xlabel(\"lr\")\n",
    "plt.xscale(\"log\")\n",
    "plt.plot(h[\"lr_steps\"], h[\"lr_loss\"])\n",
    "plt.show()"
   ]
  },
  {
   "cell_type": "code",
   "execution_count": null,
   "metadata": {},
   "outputs": [],
   "source": [
    "# from the graph we take the lower point and the upper bound is that divided by 10\n",
    "lr_max = 2 * (10 ** -3) / 10\n",
    "lr_max"
   ]
  },
  {
   "cell_type": "code",
   "execution_count": null,
   "metadata": {},
   "outputs": [],
   "source": [
    "lr_min = round(lr_max / 6, 7)\n",
    "lr_min "
   ]
  },
  {
   "cell_type": "code",
   "execution_count": null,
   "metadata": {},
   "outputs": [],
   "source": [
    "LR = 9e-5\n",
    "LR"
   ]
  },
  {
   "cell_type": "markdown",
   "metadata": {},
   "source": [
    "# Evaluation and export "
   ]
  },
  {
   "cell_type": "code",
   "execution_count": 32,
   "metadata": {},
   "outputs": [
    {
     "name": "stderr",
     "output_type": "stream",
     "text": [
      "Using cache found in /home/ec2-user/.cache/torch/hub/pytorch_vision_v0.5.0\n"
     ]
    }
   ],
   "source": [
    "model, epoch = load_model_from_checkpoint(name)\n",
    "net = model.to(gpu)"
   ]
  },
  {
   "cell_type": "code",
   "execution_count": 31,
   "metadata": {},
   "outputs": [
    {
     "data": {
      "text/plain": [
       "[<matplotlib.lines.Line2D at 0x7f7e47ce4ac8>]"
      ]
     },
     "execution_count": 31,
     "metadata": {},
     "output_type": "execute_result"
    },
    {
     "data": {
      "image/png": "[encoded data removed]",
      "text/plain": [
       "<Figure size 432x288 with 1 Axes>"
      ]
     },
     "metadata": {},
     "output_type": "display_data"
    }
   ],
   "source": [
    "plt.plot(history[\"train_bce\"])"
   ]
  },
  {
   "cell_type": "code",
   "execution_count": 30,
   "metadata": {},
   "outputs": [
    {
     "data": {
      "text/plain": [
       "[<matplotlib.lines.Line2D at 0x7f7e47d87048>]"
      ]
     },
     "execution_count": 30,
     "metadata": {},
     "output_type": "execute_result"
    },
    {
     "data": {
      "image/png": "[encoded data removed]",
      "text/plain": [
       "<Figure size 432x288 with 1 Axes>"
      ]
     },
     "metadata": {},
     "output_type": "display_data"
    }
   ],
   "source": [
    "plt.plot(history[\"val_bce\"])"
   ]
  },
  {
   "cell_type": "code",
   "execution_count": 33,
   "metadata": {},
   "outputs": [
    {
     "data": {
      "application/vnd.jupyter.widget-view+json": {
       "model_id": "",
       "version_major": 2,
       "version_minor": 0
      },
      "text/plain": [
       "HBox(children=(IntProgress(value=0, description='Evaluation', max=506, style=ProgressStyle(description_width='…"
      ]
     },
     "metadata": {},
     "output_type": "display_data"
    },
    {
     "name": "stdout",
     "output_type": "stream",
     "text": [
      "\r",
      "BCE: 0.4469\n"
     ]
    },
    {
     "data": {
      "text/plain": [
       "0.44687504158622915"
      ]
     },
     "execution_count": 33,
     "metadata": {},
     "output_type": "execute_result"
    }
   ],
   "source": [
    "vloss = evaluate(net, vdl, device=gpu)\n",
    "vloss"
   ]
  },
  {
   "cell_type": "code",
   "execution_count": null,
   "metadata": {},
   "outputs": [],
   "source": []
  },
  {
   "cell_type": "code",
   "execution_count": 34,
   "metadata": {},
   "outputs": [
    {
     "name": "stdout",
     "output_type": "stream",
     "text": [
      "saved model\n"
     ]
    }
   ],
   "source": [
    "def export():\n",
    "    torch.save(net, f\"{name}-{vloss}.all.pth\")\n",
    "    print('saved model')\n",
    "export()\n"
   ]
  },
  {
   "cell_type": "code",
   "execution_count": null,
   "metadata": {},
   "outputs": [],
   "source": [
    "import gc\n",
    "try:\n",
    "    del net\n",
    "    del tdl\n",
    "    del vdl\n",
    "    del optimizer\n",
    "except:\n",
    "    pass\n",
    "torch.cuda.empty_cache()\n",
    "gc.collect() \n"
   ]
  },
  {
   "cell_type": "code",
   "execution_count": null,
   "metadata": {},
   "outputs": [],
   "source": [
    "import json\n",
    "with open('adjs.json', 'w') as filehandle:\n",
    "    json.dump(adjs, filehandle)\n",
    "with open('pnames.json', 'w') as filehandle:\n",
    "    json.dump(pnames, filehandle)"
   ]
  },
  {
   "cell_type": "code",
   "execution_count": null,
   "metadata": {},
   "outputs": [],
   "source": [
    "with open('adjs.json', 'r') as filehandle:\n",
    "    adx = json.load(filehandle)\n",
    "print(adx)"
   ]
  },
  {
   "cell_type": "markdown",
   "metadata": {},
   "source": [
    "# Experiments log\n",
    "\n",
    "https://docs.google.com/spreadsheets/d/1lfKEGH5-cUc8vP3E7b3l6FSzUVimPj-6c9ZEgVWJ96o/edit?usp=sharing"
   ]
  }
 ],
 "metadata": {
  "kernelspec": {
   "display_name": "Environment (conda_pytorch_p36)",
   "language": "python",
   "name": "conda_pytorch_p36"
  },
  "language_info": {
   "codemirror_mode": {
    "name": "ipython",
    "version": 3
   },
   "file_extension": ".py",
   "mimetype": "text/x-python",
   "name": "python",
   "nbconvert_exporter": "python",
   "pygments_lexer": "ipython3",
   "version": "3.6.5"
  }
 },
 "nbformat": 4,
 "nbformat_minor": 1
}
