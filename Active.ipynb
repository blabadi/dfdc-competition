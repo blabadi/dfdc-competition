{
 "cells": [
  {
   "cell_type": "code",
   "execution_count": 1,
   "metadata": {
    "scrolled": true
   },
   "outputs": [
    {
     "name": "stdout",
     "output_type": "stream",
     "text": [
      "1.3.1\n",
      "Int64Index([79200, 79319], dtype='int64')\n",
      "19154\n"
     ]
    }
   ],
   "source": [
    "import torch\n",
    "import torch.nn.functional as F\n",
    "from torch.utils.data import DataLoader\n",
    "import pandas as pd\n",
    "import os\n",
    "import json\n",
    "import csv\n",
    "import time as t\n",
    "import math\n",
    "import numpy as np\n",
    "from sklearn.metrics import log_loss, roc_auc_score, f1_score, matthews_corrcoef\n",
    "from sklearn.model_selection import train_test_split\n",
    "import cv2\n",
    "from tqdm.notebook import tqdm\n",
    "import glob\n",
    "import random\n",
    "import collections\n",
    "import gc\n",
    "from PIL import Image\n",
    "from matplotlib import pyplot as plt\n",
    "%matplotlib inline\n",
    "import warnings\n",
    "warnings.filterwarnings('ignore')\n",
    "print(torch.__version__)\n",
    "\n",
    "with open('adjs.json', 'r') as filehandle:\n",
    "    adjs = json.load(filehandle)\n",
    "with open('pnames.json', 'r') as filehandle:\n",
    "    pnames = json.load(filehandle)\n",
    "    \n",
    "GPUS = torch.cuda.device_count()\n",
    "gpu = torch.device(\"cuda:0\" if torch.cuda.is_available() else \"cpu\")\n",
    "gpu\n",
    "\n",
    "def get_name():\n",
    "   return  random.sample(adjs, 1)[0] + \"_\" + random.sample(pnames, 1)[0] \n",
    "get_name()\n",
    "\n",
    "data_dir = '/home/ec2-user/dfdc/dfdc_ds/frames'\n",
    "img_dir = ''\n",
    "REAL = 0\n",
    "FAKE = 1\n",
    "\n",
    "meta = pd.read_csv(f'{data_dir}/metadata.csv', converters= {\n",
    "    'label': lambda x: FAKE if x == 'FAKE' else REAL,\n",
    "    'filename': lambda v: v.replace('.mp4', ''),\n",
    "    'original': lambda v: v.replace('.mp4', ''),\n",
    "    'folder': lambda v: int(v.split('_')[-1])\n",
    "})\n",
    "\n",
    "print(meta[meta['filename'].isin(['vulukprfvv', 'oebaztypsg'])].index)\n",
    "meta = meta.drop([79200, 79319])\n",
    "meta['label'].value_counts()\n",
    "realOnly = meta[meta['label'] == REAL].sort_values(by='folder')\n",
    "print(len(realOnly))\n",
    "allByFolder = meta.groupby('folder')\n",
    "# allByFolder.count()\n",
    "# pd.crosstab(meta['folder'], meta['label'], normalize='index').round(4) * 100\n",
    "#pd.crosstab(meta['folder'], meta['label'])\n"
   ]
  },
  {
   "cell_type": "markdown",
   "metadata": {},
   "source": [
    "# HYPER PARAMS"
   ]
  },
  {
   "cell_type": "code",
   "execution_count": 2,
   "metadata": {
    "scrolled": true
   },
   "outputs": [],
   "source": [
    "#=======================\n",
    "SQR_IMG_SIDE = 800\n",
    "\n",
    "# portrait crop factor\n",
    "pcf = 0.35\n",
    "# landscape \n",
    "lcf = 0.225\n",
    "#=======================\n",
    "ARCH = 'resnext50_32x4d'\n",
    "# ARCH = 'resnet34'  \n",
    "# ARCH= 'efficientnet-b0'\n",
    "# ARCH='mobilenet_v2'\n",
    "TRAIN_BACK_TO = None\n",
    "if (GPUS > 1):\n",
    "    TRAIN_BACK_TO = \"module.layer1.0.conv1.weight\"\n",
    "else:\n",
    "    TRAIN_BACK_TO = \"layer1.0.conv1.weight\"\n",
    "\n",
    "DROP_OUT = 0.5\n",
    "#=======================\n",
    "VAL_SEED = 99\n",
    "# 11 folders - I noticed bigger validation set didn't result in better models :(\n",
    "VAL_FOLDERS = [0, 1, 2, 8, 13, 22, 32, 36, 41, 44, 48]\n",
    "TEST_FOLDERS = [0,1,2]\n",
    "ROTATE_FAKES = False\n",
    "#================================\n",
    "BATCH_SIZE = 10\n",
    "EPOCHS = 50\n",
    "NUM_WORKERS = 16\n",
    "PIN = False\n",
    "if GPUS > 1:\n",
    "  BATCH_SIZE = 10 * GPUS \n",
    "  PIN = True\n",
    "  NUM_WORKERS = 60\n",
    "\n",
    "# this is 1 because LambdaLR multiplies initial lr with the scheduler function LR\n",
    "initial_lr = 1\n",
    "start_lr = 8 * 1e-5\n",
    "start_lr = 5 * 1e-5\n",
    "\n",
    "min_lr = 5 * 1e-5\n",
    "max_lr = 1 * 1e-4\n",
    "rampup_epochs = 5\n",
    "sustain_epochs = 1\n",
    "exp_decay = 0.85 #.95\n",
    "\n",
    "optimizer_name = 'SGD' \n",
    "def get_step_size():\n",
    "    return 4 * 500 # 220 for batches per epoch  \n",
    "\n",
    "def get_optimizer(lr, nn):\n",
    "    if (optimizer_name == 'ADAM'):\n",
    "        o = torch.optim.Adam(net.parameters(), lr=lr, weight_decay=1e-2) \n",
    "\n",
    "    if (optimizer_name == 'SGD'):\n",
    "        o = torch.optim.SGD(net.parameters(),\n",
    "                               lr=lr, \n",
    "                               weight_decay=1e-3, \n",
    "                               nesterov=True,\n",
    "                               momentum=0.9) # was 99 before resume \n",
    "    return o\n"
   ]
  },
  {
   "cell_type": "code",
   "execution_count": null,
   "metadata": {},
   "outputs": [],
   "source": [
    "def lrfn(epoch):\n",
    "    def lr(epoch, start_lr, min_lr, max_lr, rampup_epochs, sustain_epochs, exp_decay):\n",
    "        if epoch < rampup_epochs:\n",
    "            lr = (max_lr - start_lr)/rampup_epochs * epoch + start_lr\n",
    "        elif epoch < rampup_epochs + sustain_epochs:\n",
    "            lr = max_lr\n",
    "        else:\n",
    "            lr = (max_lr - min_lr) * exp_decay**(epoch-rampup_epochs-sustain_epochs) + min_lr\n",
    "        return lr\n",
    "    return lr(epoch, start_lr, min_lr, max_lr, rampup_epochs, sustain_epochs, exp_decay)\n",
    "    \n",
    "rng = [i for i in range(EPOCHS)]\n",
    "y = [lrfn(x) for x in rng]\n",
    "plt.plot(rng, [lrfn(x) for x in rng])"
   ]
  },
  {
   "cell_type": "code",
   "execution_count": 3,
   "metadata": {},
   "outputs": [],
   "source": [
    "def build_dfdc_kaggle_test_df():\n",
    "    sub_test_df = pd.read_csv(f'/home/ec2-user/dfdc/submission_test.csv', converters= {\n",
    "        'filename': lambda v: v.replace('.mp4', '')\n",
    "    })\n",
    "    sub_data_df = meta[meta['filename'].isin(sub_test_df['filename'])]\n",
    "    return sub_data_df.sort_values(by='filename')\n",
    "\n",
    "stdf = build_dfdc_kaggle_test_df()\n",
    "# print(len(stdf))\n",
    "# stdf.to_csv('sub_test.csv', index=False)\n",
    "# sub_test_df = pd.read_csv(f'/home/ec2-user/dfdc/submission_test.csv', converters= {\n",
    "#     'filename': lambda v: v.replace('.mp4', '')\n",
    "# }).sort_values(by='filename')\n",
    "# stdf.count(), \"|||\", sub_test_df.count()"
   ]
  },
  {
   "cell_type": "code",
   "execution_count": null,
   "metadata": {},
   "outputs": [],
   "source": []
  },
  {
   "cell_type": "code",
   "execution_count": null,
   "metadata": {},
   "outputs": [],
   "source": [
    "# import sklearn\n",
    "# truth = stdf[\"label\"].to_numpy()\n",
    "# preds = sub_test_df[\"label\"].to_numpy()\n",
    "# sklearn.metrics.log_loss(truth, preds)"
   ]
  },
  {
   "cell_type": "code",
   "execution_count": null,
   "metadata": {},
   "outputs": [],
   "source": []
  },
  {
   "cell_type": "code",
   "execution_count": 4,
   "metadata": {
    "scrolled": true
   },
   "outputs": [],
   "source": [
    "from torch.utils.data import Dataset\n",
    "from torchvision.transforms import Normalize\n",
    "import torchvision.transforms as transforms\n",
    "\n",
    "mean = [0.485, 0.456, 0.406]\n",
    "std = [0.229, 0.224, 0.225]\n",
    "\n",
    "def build_train_sample(size=2500, seed=None):\n",
    "    trainByFolderAndOriginal = meta[~meta['folder']\n",
    "                                .isin(VAL_FOLDERS)\n",
    "                               ].groupby(['folder', 'original'])\n",
    "    np.random.seed(seed) # change this for new train/val split\n",
    "    randomized_pairs = trainByFolderAndOriginal.agg(np.random.choice)\n",
    "    np.random.seed()\n",
    "    flattened = randomized_pairs.reset_index()\n",
    "    flattened.head()\n",
    "    OneFakePerOriginal = flattened.drop(flattened[flattened.original == ''].index)\n",
    "    OneFakePerOriginal = OneFakePerOriginal.sample(size)\n",
    "    realOfFake = OneFakePerOriginal['original']\n",
    "    print(len(OneFakePerOriginal)) # should be equivelant to the # of real videos far above!\n",
    "    t_fake = OneFakePerOriginal\n",
    "    t_real = OneFakePerOriginal.copy()\n",
    "    t_real = t_real.drop(columns=['filename'])\n",
    "    t_real = t_real.rename(columns={\"original\":\"filename\"})\n",
    "    t_real['label'] = 0\n",
    "    print(len(t_fake), len(t_real))\n",
    "    train = pd.concat([t_fake, t_real])\n",
    "    return train\n",
    "\n",
    "def build_train_df(seed=None):\n",
    "    trainByFolderAndOriginal = meta[~meta['folder']\n",
    "                                    .isin(VAL_FOLDERS)\n",
    "                                   ].groupby(['folder', 'original'])\n",
    "    np.random.seed(seed) # change this for new train/val split\n",
    "    randomized_pairs = trainByFolderAndOriginal.agg(np.random.choice)\n",
    "    np.random.seed()\n",
    "    flattened = randomized_pairs.reset_index()\n",
    "    flattened.head()\n",
    "    OneFakePerOriginal = flattened.drop(flattened[flattened.original == ''].index)\n",
    "    print(len(OneFakePerOriginal)) # should be equivelant to the # of real videos far above!\n",
    "    OneFakePerOriginal.head()\n",
    "    t_fake = OneFakePerOriginal\n",
    "    t_real = realOnly[~realOnly['folder'].isin(VAL_FOLDERS)]\n",
    "    print(len(t_fake), len(t_real))\n",
    "    train = pd.concat([t_fake, t_real])\n",
    "    return train\n",
    "    \n",
    "def build_val_df(seed=999):\n",
    "    valByFolderAndOriginal = meta[meta['folder']\n",
    "                                  .isin(VAL_FOLDERS)].groupby(['folder', 'original'])\n",
    "    np.random.seed(seed) # change this for new val split\n",
    "    randomized_pairs = valByFolderAndOriginal.agg(np.random.choice)\n",
    "    np.random.seed()\n",
    "    flattened = randomized_pairs.reset_index()\n",
    "    flattened.head()\n",
    "    OneFakePerOriginal = flattened.drop(flattened[flattened.original == ''].index)\n",
    "    print(len(OneFakePerOriginal)) # should be equivelant to the # of real videos far above!\n",
    "    OneFakePerOriginal.head()\n",
    "    v_fake = OneFakePerOriginal\n",
    "    v_real = realOnly[realOnly['folder'].isin(VAL_FOLDERS)]\n",
    "    print(len(v_fake), len(v_real))\n",
    "    val = pd.concat([v_fake, v_real])\n",
    "    return val\n",
    "\n",
    "def build_test_df(seed=999):\n",
    "    valByFolderAndOriginal = meta[meta['folder']\n",
    "                                  .isin(TEST_FOLDERS)].groupby(['folder', 'original'])\n",
    "    np.random.seed(seed) # change this for new val split\n",
    "    randomized_pairs = valByFolderAndOriginal.agg(np.random.choice)\n",
    "    np.random.seed()\n",
    "    flattened = randomized_pairs.reset_index()\n",
    "    flattened.head()\n",
    "    OneFakePerOriginal = flattened.drop(flattened[flattened.original == ''].index)\n",
    "    print(len(OneFakePerOriginal)) # should be equivelant to the # of real videos far above!\n",
    "    OneFakePerOriginal.head()\n",
    "    v_fake = OneFakePerOriginal\n",
    "    v_real = realOnly[realOnly['folder'].isin(TEST_FOLDERS)]\n",
    "    print(len(v_fake), len(v_real))\n",
    "    val = pd.concat([v_fake, v_real])\n",
    "    return val\n",
    "\n",
    "class Unnormalize:\n",
    "    def __init__(self, mean, std):\n",
    "        self.mean = mean\n",
    "        self.std = std\n",
    "\n",
    "    def __call__(self, tensor):\n",
    "        mean = torch.as_tensor(self.mean, dtype=tensor.dtype, device=tensor.device).view(3, 1, 1)\n",
    "        std = torch.as_tensor(self.std, dtype=tensor.dtype, device=tensor.device).view(3, 1, 1)\n",
    "        return torch.clamp(tensor * std + mean, 0., 1.)\n",
    "    \n",
    "unnormalize_transform = Unnormalize(mean, std)\n",
    "\n",
    "def crop(img):\n",
    "    if (img.shape[0] > img.shape[1]):\n",
    "        img = img[0: int(img.shape[0] - (img.shape[0] * pcf)), :]\n",
    "    else:\n",
    "        img = img[:, 0 + int(img.shape[1] * lcf): int(img.shape[1] - img.shape[1] * lcf)]\n",
    "    return img\n",
    "\n",
    "def resize_image(img, size):\n",
    "    h, w = img.shape[:2]\n",
    "    if w > h:\n",
    "        h = h * size // w\n",
    "        w = size\n",
    "    else:\n",
    "        w = w * size // h\n",
    "        h = size\n",
    "\n",
    "    resized = cv2.resize(img, (w, h), interpolation=cv2.INTER_LANCZOS4)\n",
    "    return resized\n",
    "\n",
    "def make_square_image(img, max_size = None):\n",
    "    h, w = img.shape[:2]\n",
    "    size = max(h, w) if max_size is None else max_size\n",
    "    t = 0\n",
    "    b = size - h\n",
    "    l = 0\n",
    "    r = size - w\n",
    "    return cv2.copyMakeBorder(img, t, b, l, r, cv2.BORDER_CONSTANT, value=0)\n",
    "\n",
    "class AddGaussianNoise(object):\n",
    "    def __init__(self, mean=0., std=0.01):\n",
    "        self.std = std\n",
    "        self.mean = mean\n",
    "    def __call__(self, tensor):\n",
    "        return tensor + torch.randn(tensor.size()) * self.std + self.mean\n",
    "    \n",
    "    def __repr__(self):\n",
    "        return self.__class__.__name__ + '(mean={0}, std={1})'.format(self.mean, self.std)\n",
    "    \n",
    "def load_image_and_label(filename, cls, crops_dir, folder_num, augment):\n",
    "    \"\"\"Loads an image into a tensor. Also returns its label.\"\"\"\n",
    "    image_size = SQR_IMG_SIDE\n",
    "    try:\n",
    "        files = os.listdir(f'{crops_dir}/dfdc_train_part_{str(folder_num)}/{filename}')\n",
    "        # only randomize frame per video in training set\n",
    "        if augment:\n",
    "            np.random.seed()\n",
    "            p = np.random.choice(np.array(files))\n",
    "        else:\n",
    "#             np.random.seed(99)\n",
    "            p = np.random.choice(np.array(files))\n",
    "            np.random.seed()\n",
    "        \n",
    "        img = cv2.imread(os.path.join(crops_dir, f'dfdc_train_part_{folder_num}', filename, p))\n",
    "        img = cv2.cvtColor(img, cv2.COLOR_BGR2RGB)\n",
    "        should_resize = img.shape[0] > image_size or img.shape[1] > image_size\n",
    "        if should_resize:\n",
    "            if augment:\n",
    "                # if portrait\n",
    "                if (img.shape[0] > img.shape[1]):\n",
    "                    img = img[0: int(img.shape[0] \n",
    "                          - (img.shape[0] * random.uniform(0.30, 0.40))), :]\n",
    "                else: # landscape\n",
    "                    img = img[:, int(img.shape[1] * random.uniform(0.20, 0.25)): \n",
    "                            int(img.shape[1] - img.shape[1] * random.uniform(0.20, 0.25))]\n",
    "            else:\n",
    "                if (img.shape[0] > img.shape[1]):\n",
    "                    img = img[0: int(img.shape[0] - (img.shape[0] * pcf)), :]\n",
    "                else: # landscape\n",
    "                    img = img[:, int(img.shape[1] * lcf): \n",
    "                                  int(img.shape[1] -  img.shape[1] * lcf)] \n",
    "        \n",
    "        if should_resize:\n",
    "            img = resize_image(img, image_size)\n",
    "        \n",
    "        if augment: \n",
    "            im_pil = Image.fromarray(img)\n",
    "            train_trans = transforms.Compose([\n",
    "                transforms.RandomAffine(degrees=(10, -10), \n",
    "                                        scale=(0.95, 1.05), \n",
    "                                        translate=(0.02, 0.02), \n",
    "                                        resample=Image.BICUBIC),\n",
    "                transforms.RandomHorizontalFlip(),\n",
    "                transforms.ColorJitter(brightness=0.3, contrast=0, saturation=0, hue=0),\n",
    "#                 transforms.RandomApply([AddGaussianNoise(0., 0.01)], p = 0.2),\n",
    "            ])\n",
    "            img = train_trans(im_pil)\n",
    "            \n",
    "        img = np.array(img)\n",
    "        img = make_square_image(img, image_size)\n",
    "        generic_trans = transforms.Compose([\n",
    "            transforms.ToTensor(),\n",
    "            transforms.Normalize(mean, std)\n",
    "        ])\n",
    "        img = generic_trans(img)\n",
    "        target = cls\n",
    "        return img, target\n",
    "    except:\n",
    "        print(f'failed to load file: {filename}, folder: {folder_num}')\n",
    "        raise\n",
    "\n",
    "\n",
    "class MyDataset(Dataset):\n",
    "    def __init__(self, crops_dir, df, split, sample_size=None, seed=None):\n",
    "        self.crops_dir = crops_dir\n",
    "        self.split = split\n",
    "        self.df = df\n",
    "        num_real = len(self.df[self.df[\"label\"] == REAL])\n",
    "        num_fake = len(self.df[self.df[\"label\"] == FAKE])\n",
    "        print(\"%s dataset has %d real videos, %d fake videos\" % (split, num_real, num_fake))\n",
    "\n",
    "    def __getitem__(self, index):\n",
    "        row = self.df.iloc[index]\n",
    "        filename = row['filename']\n",
    "        # if fake, fetch a random faked video (i.e. ignore file name here)\n",
    "        if (self.split == 'train' \n",
    "                and ROTATE_FAKES\n",
    "                and row['label'] == FAKE):\n",
    "            sampledFake = meta[meta['original'] == row['original']].sample().iloc[0]\n",
    "            filename = sampledFake['filename']\n",
    "            \n",
    "        cls = row[\"label\"]\n",
    "        folder_num = row['folder']\n",
    "        return load_image_and_label(filename, \n",
    "                                    cls, \n",
    "                                    self.crops_dir, \n",
    "                                    folder_num,\n",
    "                                    self.split == \"train\")\n",
    "    def __len__(self):\n",
    "        return len(self.df)\n"
   ]
  },
  {
   "cell_type": "markdown",
   "metadata": {},
   "source": [
    "# Training Loops"
   ]
  },
  {
   "cell_type": "code",
   "execution_count": 5,
   "metadata": {
    "scrolled": true
   },
   "outputs": [],
   "source": [
    "def s(x):\n",
    "    z = 1/(1 + np.exp(-x))\n",
    "    return z\n",
    "# try MCC (penalize the bad condident by -1)\n",
    "# https://stats.stackexchange.com/questions/118219/how-to-interpret-matthews-correlation-coefficient-mcc\n",
    "def calc_confidence(y_pred, y_true):\n",
    "    phat = s(y_pred)\n",
    "    c = np.where(phat < 0.1, 0, phat)\n",
    "    c = np.where(c > 0.9, 1, c)\n",
    "    c = np.where(np.logical_and(c != 0, c != 1), 0.5, c)\n",
    "    r = np.sum(c == y_true)\n",
    "    return r\n",
    "\n",
    "def evaluate(net, data_loader, device, silent=True, hist_plot_name=None):\n",
    "    net.train(False)\n",
    "    bce_loss = 0\n",
    "    total_examples = 0\n",
    "    roc_auc = 0\n",
    "    yhats = np.array([])\n",
    "    ys = np.array([])\n",
    "    confidence = 0\n",
    "    batches = len(data_loader)\n",
    "    with tqdm(total=batches, desc=\"Evaluation\", leave=False) as pbar:\n",
    "        for batch_idx, data in enumerate(data_loader):\n",
    "            with torch.no_grad():\n",
    "                batch_size = data[0].shape[0]\n",
    "                x = data[0].to(device)\n",
    "                y_true = data[1].to(device).float()\n",
    "                \n",
    "                y_pred = net(x)\n",
    "                y_pred = y_pred.squeeze()\n",
    "                \n",
    "                y_pred_np = y_pred.cpu().numpy()\n",
    "                y_true_np = y_true.cpu().numpy()\n",
    "\n",
    "                yhats = np.concatenate([yhats, y_pred_np])\n",
    "                ys = np.concatenate([ys, y_true_np])\n",
    "                \n",
    "                bce_loss += F.binary_cross_entropy_with_logits(y_pred, y_true).item()\n",
    "                confidence += calc_confidence(y_pred_np, y_true_np)\n",
    "            total_examples += batch_size\n",
    "            pbar.update()\n",
    "    \n",
    "    if (not silent):\n",
    "        y_hat_df = pd.DataFrame(data=s(yhats), columns=['prediction'])\n",
    "        ax = y_hat_df.plot.hist(bins=20)\n",
    "        if not os.path.exists(name):\n",
    "            os.makedirs(name)\n",
    "        if (hist_plot_name is None):\n",
    "            plt.savefig(f'{name}/hist.{epochs_done}.jpg')\n",
    "        else:\n",
    "            plt.savefig(f'{name}/{hist_plot_name}.jpg')\n",
    "    \n",
    "    probs = s(yhats)\n",
    "    roc_auc = roc_auc_score(ys, probs)\n",
    "    pred_cls = np.where(probs > 0.5, 1, 0)\n",
    "    f1 = f1_score(ys, pred_cls)\n",
    "    mcc = matthews_corrcoef(ys, pred_cls)\n",
    "    bce_loss /= batches\n",
    "    confidence = confidence / total_examples\n",
    "    return bce_loss, confidence, roc_auc, f1, mcc\n",
    "\n",
    "fieldnames = ['epoch', 'batch_size', 'lr', 'tloss', \n",
    "              'vloss', 'confidence', 'roc_acc', 'f1', 'mcc', 'optimizer' ]\n",
    "\n",
    "def init_log():\n",
    "     with open(f'{name}_{GPUS}xGPU_{ARCH}.csv', 'w') as csvfile:\n",
    "        writer = csv.DictWriter(csvfile, fieldnames=fieldnames)\n",
    "        writer.writeheader()\n",
    "        \n",
    "def log_epoch(data):\n",
    "    with open(f'{name}_{GPUS}xGPU_{ARCH}.csv', 'a') as csvfile:\n",
    "        writer = csv.DictWriter(csvfile, fieldnames=fieldnames)\n",
    "        if (data is not None):\n",
    "            writer.writerow(data)\n",
    "\n",
    "def fit(epochs, cp=True, log=True):\n",
    "    global history, iteration, epochs_done, lr\n",
    "\n",
    "    with tqdm(total=len(tdl), leave=False) as pbar:\n",
    "        for epoch in range(epochs):\n",
    "            pbar.reset()\n",
    "            pbar.set_description(\"Epoch %d\" % (epochs_done + 1))\n",
    "            bce_loss = 0\n",
    "            total_examples = 0\n",
    "            net.train(True)\n",
    "            for batch_idx, data in enumerate(tdl):\n",
    "                batch_size = data[0].shape[0]\n",
    "                x = data[0].to(gpu)\n",
    "                y_true = data[1].to(gpu).float()\n",
    "                optimizer.zero_grad()\n",
    "                y_pred = net(x)\n",
    "                y_pred = y_pred.squeeze()\n",
    "                \n",
    "                loss = F.binary_cross_entropy_with_logits(y_pred, y_true)\n",
    "                loss.backward()\n",
    "                optimizer.step()\n",
    "                \n",
    "                batch_bce = loss.item()\n",
    "                bce_loss += batch_bce * batch_size\n",
    "                history[\"train_bce\"].append(batch_bce)\n",
    "                total_examples += batch_size\n",
    "                iloss = round(bce_loss / total_examples, 4)\n",
    "                pbar.set_description(f\"Epoch {epochs_done + 1} (loss:{iloss}) \")\n",
    "                iteration += 1\n",
    "                pbar.update()\n",
    "                if (is_batch_lr_scheduler and lr_scheduler is not None):\n",
    "                    lr_scheduler.step()\n",
    "            bce_loss /= total_examples\n",
    "            epochs_done += 1\n",
    "            \n",
    "            print(\"Epoch: %3d, train BCE: %.4f\" % (epochs_done, bce_loss))\n",
    "\n",
    "            val_bce_loss, confidence, roc_acc, f1, mcc = evaluate(net, vdl, device=gpu, silent=False)\n",
    "            history[\"val_bce\"].append(val_bce_loss)\n",
    "            history[\"confidence\"].append(confidence)\n",
    "            print(f\"    val BCE: {val_bce_loss}, confidence: {confidence}, roc_acc: {roc_acc}, f1: {f1}, mcc: {mcc}\")\n",
    "            \n",
    "            if (log):                                                                                                                                                                                                                                                                                                                                                                                                                                                                                                                                                                                                                                                                                                                                                                                                                                                                                                                                                                                                                                                                                                                                                                                                                                                                                                                                                                                                                                                                                                                                                                                                                                                                                                                                                                                                                                                                                                                                                                                                                                                                                                                                                                                                                                                                                                                                                                                                                                                                                                                                                                                                                                                                                                                                                                                                                                                                                                                                                                                                                                                                                                                                                                                                                                                                                                                                                                                                                                                                                                                                                                                                                                                                                                                                                                                                                                                                                                                                                                                                                                                                                                                                                                                                                                                                                                                                                                                                                                                                                                                                                                                                                                                                                                                                                                                                                                                                                                                                                                                                                                                                                                                                                                                                                                                                                                                                                                                                                                                                                                                                                                                                                                                                                                                                                                                                                                                                                                                                                                                                                                                                                                                                                                                                                                                                                                                                                                                                                                                                                                                                                                                                                                                                                                                                                                                                                                                                                                                                                                                                                                                                                                                                                                                                                                                                                                                                                                                                                                                                                                                                                                                                                                                                                                                                                                                                                                                                                                                                                                                                                                                                                                                                                                                                                                                                                                                                                                                                                                                                                                                                                                                                                                                                                                                                                                                                                                                                                                                                                                                                                                                                                                                                                                                                                                                                                                                                                                                                                                                                                                                                                                                                                                                                                                                                                                                                                                                                                                                                                                                                                                                                                                                                                                                                                                                                                                                                                                                                                                                                                                                                                                                                                                                                                                                                                                                                                                                                                                                                                                                                                                                                                                                                                                                                                                                                                                                                                                                                                                                                                                                                                                                                                                                                                                                                                                                                                                                                                                                                                                                                                                                                                                                                                                                                                                                                                                                                                                                                                                                                                                                                                                                                                                                                                                                                                                                                                                                                                                                                                                                                                                                                                                                                                                                                                                                                                                                                                                                                                                                                                                                                                                                                                                                                                                                                                                                                                                                                                                                                                                                                                                                                                                                                                                                                                                                                                                                                                                                                                                                                                                                                                                                                                                                                                                                                                                                                                                                                                                                                                                                                                                                                                                                                                                                                                                                                                                                                                                                                                                                                                                                                                                                                                                                                                                                                                                                                                                                                                                                                                                                                                                                                                                                                                                                                                                                                                                                                                                                                                                                                                                                                                                                                                                                                                                                                                                                                                                                                                                                                                                                                                                                                                                                                                                                                                                                                                                                                                                                                                                                                                                                                                                                                                                                                                                                                                                                                                                                                                                                                                                                                                                                                                                                                                                                                                                                                                                                                                                                                                                                                                                                                                                                                                                                                                                                                                                                                                                                                                                                                                                                                                                                                                                                                                                                                                                                                                                                                                                                                                                                                                                                                                                                                                                                                                                                                                                                                                                                                                                                                                                                                                                                                                                                                                                                                                                                                                                                                                                                                                                                                                                                                                                                                                                                                                                                                                                                                                                                                                                                                                                                                                                                                                                                                                                                                                                                                                                                                                                                                                                                                                                                                                                                                                                                                                                                                                                                                                                                                                                                                                                                                                                                                                                                                                                                                                                                                                                                                                                                                                                                                                                                                                                                                                                                                                                                                                                                                                                                                                                                                                                                                                                                                                                                                                                                                                                                                                       \n",
    "                log_epoch({\n",
    "                    'epoch': epochs_done,\n",
    "                    'batch_size': BATCH_SIZE,\n",
    "                    'lr': lr_scheduler.get_lr() if lr_scheduler is not None else start_lr,\n",
    "                    'tloss': round(bce_loss, 6),\n",
    "                    'vloss': round(val_bce_loss, 6),\n",
    "                    'confidence': round(confidence,6),\n",
    "                    'roc_acc': round(roc_acc, 6),\n",
    "                    'f1': round(f1, 6),\n",
    "                    'mcc': round(mcc, 6),\n",
    "                    'optimizer': optimizer_name,\n",
    "                })\n",
    "                \n",
    "            if (not is_batch_lr_scheduler and lr_scheduler is not None):\n",
    "                    lr_scheduler.step()\n",
    "\n",
    "            # save the last epoch checkpoint\n",
    "            if hasattr(net, 'module'):\n",
    "                model_state = net.module.state_dict()\n",
    "            else:\n",
    "                model_state = net.state_dict()\n",
    "            torch.save({\n",
    "                'epoch': epochs_done,\n",
    "                'model_state_dict': model_state,\n",
    "                'loss': val_bce_loss,\n",
    "                'confidence': confidence,\n",
    "                }, f\"{name}.last.ckpt.pth\")\n",
    "            # save the best checkpoint aside \n",
    "            if (should_save(cp, history, confidence, val_bce_loss)):\n",
    "                if hasattr(net, 'module'):\n",
    "                    model_state = net.module.state_dict()\n",
    "                else:\n",
    "                    model_state = net.state_dict()\n",
    "                torch.save({\n",
    "                    'epoch': epochs_done,\n",
    "                    'model_state_dict': model_state,\n",
    "#                   'optimizer_state_dict': optimizer.state_dict(),\n",
    "                    'loss': val_bce_loss,\n",
    "                    'confidence': confidence,\n",
    "                    }, f\"{name}.ckpt.pth\")\n",
    "                print(f'saved: {name}.ckpt.pth')\n",
    "            print('-----------------------------------------------')\n",
    "            \n",
    "def should_save(cp, history, confidence, val_loss):\n",
    "    return cp == True and len(history['val_bce']) \\\n",
    "            and val_loss <= np.min(np.array(history['val_bce']))\n",
    "        \n",
    "#          and (len(history['confidence']) == 0 \n",
    "#          or (\n",
    "#              confidence >= np.max(np.array(history['confidence']))\n",
    "#              and\n",
    "#              val_loss <= np.min(np.array(history['val_bce']))\n",
    "#             )\n",
    "#         )# \n",
    "               "
   ]
  },
  {
   "cell_type": "markdown",
   "metadata": {},
   "source": [
    "# Model "
   ]
  },
  {
   "cell_type": "code",
   "execution_count": 6,
   "metadata": {
    "scrolled": true
   },
   "outputs": [],
   "source": [
    "import torchvision.models as models\n",
    "import torch.nn as nn\n",
    "\n",
    "##Load new model\n",
    "def get_model(pretrained = True):\n",
    "    model = torch.hub.load('pytorch/vision:v0.5.0', ARCH, pretrained)\n",
    "    num_ftrs = model.fc.in_features\n",
    "    model.fc = nn.Sequential(\n",
    "        nn.Dropout(DROP_OUT),\n",
    "        nn.Linear(num_ftrs, 1)\n",
    "    )\n",
    "    return model\n",
    "\n",
    "def freeze_until(net, param_name):\n",
    "    if (param_name == None):\n",
    "        model.train(True)\n",
    "        return\n",
    "    found_name = False\n",
    "    for name, params in net.named_parameters():\n",
    "        if name == param_name:\n",
    "            found_name = True\n",
    "        params.requires_grad = found_name\n",
    "        \n",
    "def load_model_from_checkpoint(file_name):\n",
    "    model = get_model(False)\n",
    "    checkpoint = torch.load(file_name)\n",
    "    model.load_state_dict(checkpoint['model_state_dict'])\n",
    "#     optimizer.load_state_dict(checkpoint['optimizer_state_dict'])\n",
    "    epoch = checkpoint['epoch']\n",
    "    loss = checkpoint['loss']\n",
    "    conf = checkpoint['confidence']\n",
    "    return model, epoch, loss, conf\n",
    "\n"
   ]
  },
  {
   "cell_type": "markdown",
   "metadata": {},
   "source": [
    "# Training Data loader Parameters"
   ]
  },
  {
   "cell_type": "code",
   "execution_count": 8,
   "metadata": {},
   "outputs": [
    {
     "name": "stdout",
     "output_type": "stream",
     "text": [
      "15455\n",
      "15455 15455\n",
      "3699\n",
      "3699 3699\n",
      "424\n",
      "424 424\n",
      "30910 7398 848\n"
     ]
    }
   ],
   "source": [
    "train = build_train_df() #build_train_sample(size=FAKE_TRAIN_SIZE)\n",
    "val = build_val_df(VAL_SEED)\n",
    "test = build_test_df()\n",
    "val.head()\n",
    "\n",
    "val_len = len(val)\n",
    "train_len = len(train)\n",
    "print(train_len, val_len, len(test))"
   ]
  },
  {
   "cell_type": "code",
   "execution_count": null,
   "metadata": {},
   "outputs": [],
   "source": [
    "train.head()"
   ]
  },
  {
   "cell_type": "code",
   "execution_count": null,
   "metadata": {
    "scrolled": true
   },
   "outputs": [],
   "source": [
    "def display_image_in_actual_size(tensor):\n",
    "    dpi = 80\n",
    "    height, width, depth = tensor.size()\n",
    "\n",
    "    # What size does the figure need to be in inches to fit the image?\n",
    "    figsize = width / float(dpi), height / float(dpi)\n",
    "\n",
    "    # Create a figure of the right size with one axes that takes up the full figure\n",
    "    fig = plt.figure(figsize=figsize)\n",
    "    ax = fig.add_axes([0, 0, 1, 1])\n",
    "\n",
    "    # Hide spines, ticks, etc.\n",
    "#     ax.axis('off')\n",
    "\n",
    "    # Display the image.\n",
    "    ax.imshow(tensor)\n",
    "\n",
    "    plt.show()"
   ]
  },
  {
   "cell_type": "code",
   "execution_count": null,
   "metadata": {},
   "outputs": [],
   "source": []
  },
  {
   "cell_type": "code",
   "execution_count": null,
   "metadata": {},
   "outputs": [],
   "source": []
  },
  {
   "cell_type": "code",
   "execution_count": null,
   "metadata": {},
   "outputs": [],
   "source": [
    "%%time\n",
    "r = train.sample().values[0]\n",
    "print(r)\n",
    "augment = True\n",
    "img_tensor, label = load_image_and_label(r[0], 1, data_dir, r[1], augment)\n",
    "display_image_in_actual_size(unnormalize_transform(img_tensor).permute(1, 2, 0))"
   ]
  },
  {
   "cell_type": "code",
   "execution_count": null,
   "metadata": {},
   "outputs": [],
   "source": [
    "r = train.sample().values[0]\n",
    "print(r)\n",
    "augment = False\n",
    "img_tensor, label = load_image_and_label(r[0], 1, data_dir, r[1], augment)\n",
    "display_image_in_actual_size(unnormalize_transform(img_tensor).permute(1, 2, 0))"
   ]
  },
  {
   "cell_type": "code",
   "execution_count": 9,
   "metadata": {},
   "outputs": [
    {
     "name": "stdout",
     "output_type": "stream",
     "text": [
      "train dataset has 15455 real videos, 15455 fake videos\n",
      "val dataset has 3699 real videos, 3699 fake videos\n",
      "test dataset has 200 real videos, 200 fake videos\n"
     ]
    }
   ],
   "source": [
    "train_ds = MyDataset(data_dir, train, 'train')\n",
    "val_ds = MyDataset(data_dir, val, 'val')\n",
    "test_ds = MyDataset(data_dir, stdf, 'test')"
   ]
  },
  {
   "cell_type": "code",
   "execution_count": 10,
   "metadata": {
    "scrolled": true
   },
   "outputs": [],
   "source": [
    "def create_data_loaders():\n",
    "    train_loader = DataLoader(train_ds, batch_size=BATCH_SIZE, shuffle=True, \n",
    "                              num_workers=NUM_WORKERS, pin_memory=PIN)\n",
    "    val_loader = DataLoader(val_ds, batch_size=BATCH_SIZE, shuffle=False, \n",
    "                            num_workers=NUM_WORKERS, pin_memory=PIN)\n",
    "\n",
    "    test_loader = DataLoader(test_ds, batch_size=BATCH_SIZE, shuffle=False, \n",
    "                            num_workers=NUM_WORKERS, pin_memory=PIN)\n",
    "    \n",
    "    return train_loader, val_loader, test_loader\n",
    "\n",
    "tdl, vdl, testdl = create_data_loaders()\n",
    "\n",
    "# vit = iter(vdl)\n",
    "# X, y = next(vit)\n",
    "# plt.imshow(unnormalize_transform(X[0]).permute(1, 2, 0))\n",
    "# del vit"
   ]
  },
  {
   "cell_type": "code",
   "execution_count": null,
   "metadata": {},
   "outputs": [],
   "source": [
    "# for batch_idx, data in enumerate(tdl):\n",
    "#     print(batch_idx)\n",
    "#     print(data[0].shape[0], data[1].shape[0])\n",
    "#     break"
   ]
  },
  {
   "cell_type": "code",
   "execution_count": null,
   "metadata": {},
   "outputs": [],
   "source": [
    "# len(tdl)"
   ]
  },
  {
   "cell_type": "code",
   "execution_count": null,
   "metadata": {},
   "outputs": [],
   "source": [
    "x, y = train_ds.__getitem__(88)\n",
    "plt.imshow(unnormalize_transform(x).permute(1, 2, 0))"
   ]
  },
  {
   "cell_type": "markdown",
   "metadata": {},
   "source": [
    "# Training "
   ]
  },
  {
   "cell_type": "code",
   "execution_count": 11,
   "metadata": {},
   "outputs": [
    {
     "name": "stderr",
     "output_type": "stream",
     "text": [
      "Using cache found in /home/ec2-user/.cache/torch/hub/pytorch_vision_v0.5.0\n"
     ]
    },
    {
     "name": "stdout",
     "output_type": "stream",
     "text": [
      "loaded, {'train_bce': [], 'val_bce': [0.2196555838290904], 'confidence': [0.7675047310083807]}\n"
     ]
    }
   ],
   "source": [
    "# Resume\n",
    "# safety gaurd \n",
    "load_existing = True\n",
    "if load_existing:\n",
    "    name = \"risque_Espeon\"\n",
    "    model, epochss, loss, conf = load_model_from_checkpoint(f\"{name}.ckpt.pth\")\n",
    "    epochs_done = epochss\n",
    "    # filled from logs\n",
    "    history = { \"train_bce\": [], \"val_bce\": [loss], \"confidence\": [conf] } \n",
    "    print(f'loaded, {history}')\n",
    "else:\n",
    "    # NEW\n",
    "    name = get_name()\n",
    "    init_log()\n",
    "    print(name)\n",
    "    # Load new Model\n",
    "    model = get_model(True)\n",
    "    history = { \"train_bce\": [], \"val_bce\": [], \"confidence\": [] }\n",
    "    epochs_done = 0\n",
    "\n",
    "if GPUS > 1:\n",
    "  print(\"Let's use\", torch.cuda.device_count(), \"GPUs!\")\n",
    "  model = nn.DataParallel(model)\n",
    "net = model.to(gpu)\n",
    "\n"
   ]
  },
  {
   "cell_type": "code",
   "execution_count": null,
   "metadata": {},
   "outputs": [],
   "source": [
    "net"
   ]
  },
  {
   "cell_type": "code",
   "execution_count": 12,
   "metadata": {
    "scrolled": true
   },
   "outputs": [
    {
     "data": {
      "text/plain": [
       "['layer1.0.conv1.weight',\n",
       " 'layer1.0.bn1.weight',\n",
       " 'layer1.0.bn1.bias',\n",
       " 'layer1.0.conv2.weight',\n",
       " 'layer1.0.bn2.weight',\n",
       " 'layer1.0.bn2.bias',\n",
       " 'layer1.0.conv3.weight',\n",
       " 'layer1.0.bn3.weight',\n",
       " 'layer1.0.bn3.bias',\n",
       " 'layer1.0.downsample.0.weight',\n",
       " 'layer1.0.downsample.1.weight',\n",
       " 'layer1.0.downsample.1.bias',\n",
       " 'layer1.1.conv1.weight',\n",
       " 'layer1.1.bn1.weight',\n",
       " 'layer1.1.bn1.bias',\n",
       " 'layer1.1.conv2.weight',\n",
       " 'layer1.1.bn2.weight',\n",
       " 'layer1.1.bn2.bias',\n",
       " 'layer1.1.conv3.weight',\n",
       " 'layer1.1.bn3.weight',\n",
       " 'layer1.1.bn3.bias',\n",
       " 'layer1.2.conv1.weight',\n",
       " 'layer1.2.bn1.weight',\n",
       " 'layer1.2.bn1.bias',\n",
       " 'layer1.2.conv2.weight',\n",
       " 'layer1.2.bn2.weight',\n",
       " 'layer1.2.bn2.bias',\n",
       " 'layer1.2.conv3.weight',\n",
       " 'layer1.2.bn3.weight',\n",
       " 'layer1.2.bn3.bias',\n",
       " 'layer2.0.conv1.weight',\n",
       " 'layer2.0.bn1.weight',\n",
       " 'layer2.0.bn1.bias',\n",
       " 'layer2.0.conv2.weight',\n",
       " 'layer2.0.bn2.weight',\n",
       " 'layer2.0.bn2.bias',\n",
       " 'layer2.0.conv3.weight',\n",
       " 'layer2.0.bn3.weight',\n",
       " 'layer2.0.bn3.bias',\n",
       " 'layer2.0.downsample.0.weight',\n",
       " 'layer2.0.downsample.1.weight',\n",
       " 'layer2.0.downsample.1.bias',\n",
       " 'layer2.1.conv1.weight',\n",
       " 'layer2.1.bn1.weight',\n",
       " 'layer2.1.bn1.bias',\n",
       " 'layer2.1.conv2.weight',\n",
       " 'layer2.1.bn2.weight',\n",
       " 'layer2.1.bn2.bias',\n",
       " 'layer2.1.conv3.weight',\n",
       " 'layer2.1.bn3.weight',\n",
       " 'layer2.1.bn3.bias',\n",
       " 'layer2.2.conv1.weight',\n",
       " 'layer2.2.bn1.weight',\n",
       " 'layer2.2.bn1.bias',\n",
       " 'layer2.2.conv2.weight',\n",
       " 'layer2.2.bn2.weight',\n",
       " 'layer2.2.bn2.bias',\n",
       " 'layer2.2.conv3.weight',\n",
       " 'layer2.2.bn3.weight',\n",
       " 'layer2.2.bn3.bias',\n",
       " 'layer2.3.conv1.weight',\n",
       " 'layer2.3.bn1.weight',\n",
       " 'layer2.3.bn1.bias',\n",
       " 'layer2.3.conv2.weight',\n",
       " 'layer2.3.bn2.weight',\n",
       " 'layer2.3.bn2.bias',\n",
       " 'layer2.3.conv3.weight',\n",
       " 'layer2.3.bn3.weight',\n",
       " 'layer2.3.bn3.bias',\n",
       " 'layer3.0.conv1.weight',\n",
       " 'layer3.0.bn1.weight',\n",
       " 'layer3.0.bn1.bias',\n",
       " 'layer3.0.conv2.weight',\n",
       " 'layer3.0.bn2.weight',\n",
       " 'layer3.0.bn2.bias',\n",
       " 'layer3.0.conv3.weight',\n",
       " 'layer3.0.bn3.weight',\n",
       " 'layer3.0.bn3.bias',\n",
       " 'layer3.0.downsample.0.weight',\n",
       " 'layer3.0.downsample.1.weight',\n",
       " 'layer3.0.downsample.1.bias',\n",
       " 'layer3.1.conv1.weight',\n",
       " 'layer3.1.bn1.weight',\n",
       " 'layer3.1.bn1.bias',\n",
       " 'layer3.1.conv2.weight',\n",
       " 'layer3.1.bn2.weight',\n",
       " 'layer3.1.bn2.bias',\n",
       " 'layer3.1.conv3.weight',\n",
       " 'layer3.1.bn3.weight',\n",
       " 'layer3.1.bn3.bias',\n",
       " 'layer3.2.conv1.weight',\n",
       " 'layer3.2.bn1.weight',\n",
       " 'layer3.2.bn1.bias',\n",
       " 'layer3.2.conv2.weight',\n",
       " 'layer3.2.bn2.weight',\n",
       " 'layer3.2.bn2.bias',\n",
       " 'layer3.2.conv3.weight',\n",
       " 'layer3.2.bn3.weight',\n",
       " 'layer3.2.bn3.bias',\n",
       " 'layer3.3.conv1.weight',\n",
       " 'layer3.3.bn1.weight',\n",
       " 'layer3.3.bn1.bias',\n",
       " 'layer3.3.conv2.weight',\n",
       " 'layer3.3.bn2.weight',\n",
       " 'layer3.3.bn2.bias',\n",
       " 'layer3.3.conv3.weight',\n",
       " 'layer3.3.bn3.weight',\n",
       " 'layer3.3.bn3.bias',\n",
       " 'layer3.4.conv1.weight',\n",
       " 'layer3.4.bn1.weight',\n",
       " 'layer3.4.bn1.bias',\n",
       " 'layer3.4.conv2.weight',\n",
       " 'layer3.4.bn2.weight',\n",
       " 'layer3.4.bn2.bias',\n",
       " 'layer3.4.conv3.weight',\n",
       " 'layer3.4.bn3.weight',\n",
       " 'layer3.4.bn3.bias',\n",
       " 'layer3.5.conv1.weight',\n",
       " 'layer3.5.bn1.weight',\n",
       " 'layer3.5.bn1.bias',\n",
       " 'layer3.5.conv2.weight',\n",
       " 'layer3.5.bn2.weight',\n",
       " 'layer3.5.bn2.bias',\n",
       " 'layer3.5.conv3.weight',\n",
       " 'layer3.5.bn3.weight',\n",
       " 'layer3.5.bn3.bias',\n",
       " 'layer4.0.conv1.weight',\n",
       " 'layer4.0.bn1.weight',\n",
       " 'layer4.0.bn1.bias',\n",
       " 'layer4.0.conv2.weight',\n",
       " 'layer4.0.bn2.weight',\n",
       " 'layer4.0.bn2.bias',\n",
       " 'layer4.0.conv3.weight',\n",
       " 'layer4.0.bn3.weight',\n",
       " 'layer4.0.bn3.bias',\n",
       " 'layer4.0.downsample.0.weight',\n",
       " 'layer4.0.downsample.1.weight',\n",
       " 'layer4.0.downsample.1.bias',\n",
       " 'layer4.1.conv1.weight',\n",
       " 'layer4.1.bn1.weight',\n",
       " 'layer4.1.bn1.bias',\n",
       " 'layer4.1.conv2.weight',\n",
       " 'layer4.1.bn2.weight',\n",
       " 'layer4.1.bn2.bias',\n",
       " 'layer4.1.conv3.weight',\n",
       " 'layer4.1.bn3.weight',\n",
       " 'layer4.1.bn3.bias',\n",
       " 'layer4.2.conv1.weight',\n",
       " 'layer4.2.bn1.weight',\n",
       " 'layer4.2.bn1.bias',\n",
       " 'layer4.2.conv2.weight',\n",
       " 'layer4.2.bn2.weight',\n",
       " 'layer4.2.bn2.bias',\n",
       " 'layer4.2.conv3.weight',\n",
       " 'layer4.2.bn3.weight',\n",
       " 'layer4.2.bn3.bias',\n",
       " 'fc.1.weight',\n",
       " 'fc.1.bias']"
      ]
     },
     "execution_count": 12,
     "metadata": {},
     "output_type": "execute_result"
    }
   ],
   "source": [
    "net.train(True)\n",
    "iteration = 0\n",
    "freeze_until(net, TRAIN_BACK_TO)\n",
    "[k for k,v in net.named_parameters() if v.requires_grad]"
   ]
  },
  {
   "cell_type": "markdown",
   "metadata": {},
   "source": [
    "## Optimizer And LR scheduler"
   ]
  },
  {
   "cell_type": "markdown",
   "metadata": {},
   "source": [
    "$$f\\left(x,\\ l_{0},\\ l_{1},\\ b\\right)\\ =l_{0}\\ +\\ \\ \\left(l_{1}\\ -\\ l_{0}\\right)\\ \\cdot\\ b^{\\left(x-1\\right)}$$"
   ]
  },
  {
   "cell_type": "code",
   "execution_count": 13,
   "metadata": {},
   "outputs": [],
   "source": [
    "# whether to step the lr scheduler each batch vs epoch\n",
    "is_batch_lr_scheduler = False\n",
    "use_lr_scheduler = 'exp_one_cycle' # or None for no schedule\n",
    "use_lr_scheduler = None\n",
    "lr_scheduler = None\n",
    "if (use_lr_scheduler is None):\n",
    "    optimizer = get_optimizer(start_lr, net)\n",
    "if (use_lr_scheduler == 'cyclic_lr'):\n",
    "    optimizer = get_optimizer(start_lr, net)\n",
    "    lr_scheduler = torch.optim.lr_scheduler.CyclicLR(optimizer, \n",
    "                                             start_lr, \n",
    "                                             end_lr, \n",
    "                                             cycle_momentum=False, \n",
    "                                             step_size_up = get_step_size())\n",
    "if (use_lr_scheduler == 'exp_one_cycle'):\n",
    "    optimizer = get_optimizer(1, net)\n",
    "    lr_scheduler = torch.optim.lr_scheduler.LambdaLR(optimizer, \n",
    "                                             lrfn, \n",
    "                                             last_epoch=-1)"
   ]
  },
  {
   "cell_type": "code",
   "execution_count": 14,
   "metadata": {
    "scrolled": false
   },
   "outputs": [
    {
     "data": {
      "text/plain": [
       "(SGD (\n",
       " Parameter Group 0\n",
       "     dampening: 0\n",
       "     lr: 5e-05\n",
       "     momentum: 0.9\n",
       "     nesterov: True\n",
       "     weight_decay: 0.001\n",
       " ), None, 16)"
      ]
     },
     "execution_count": 14,
     "metadata": {},
     "output_type": "execute_result"
    }
   ],
   "source": [
    "optimizer, lr_scheduler, epochs_done"
   ]
  },
  {
   "cell_type": "code",
   "execution_count": 15,
   "metadata": {},
   "outputs": [
    {
     "data": {
      "text/plain": [
       "'risque_Espeon'"
      ]
     },
     "execution_count": 15,
     "metadata": {},
     "output_type": "execute_result"
    }
   ],
   "source": [
    "name"
   ]
  },
  {
   "cell_type": "code",
   "execution_count": 16,
   "metadata": {
    "scrolled": true
   },
   "outputs": [
    {
     "data": {
      "application/vnd.jupyter.widget-view+json": {
       "model_id": "",
       "version_major": 2,
       "version_minor": 0
      },
      "text/plain": [
       "HBox(children=(IntProgress(value=0, max=3091), HTML(value='')))"
      ]
     },
     "metadata": {},
     "output_type": "display_data"
    },
    {
     "name": "stdout",
     "output_type": "stream",
     "text": [
      "Epoch:  17, train BCE: 0.1074\n"
     ]
    },
    {
     "data": {
      "application/vnd.jupyter.widget-view+json": {
       "model_id": "",
       "version_major": 2,
       "version_minor": 0
      },
      "text/plain": [
       "HBox(children=(IntProgress(value=0, description='Evaluation', max=740, style=ProgressStyle(description_width='…"
      ]
     },
     "metadata": {},
     "output_type": "display_data"
    },
    {
     "name": "stdout",
     "output_type": "stream",
     "text": [
      "    val BCE: 0.3276357426509266, confidence: 0.7233035955663693, roc_acc: 0.9768679946159359, f1: 0.8856651094172608, mcc: 0.763853930921804\n",
      "-----------------------------------------------\n",
      "Epoch:  18, train BCE: 0.0968\n"
     ]
    },
    {
     "data": {
      "application/vnd.jupyter.widget-view+json": {
       "model_id": "",
       "version_major": 2,
       "version_minor": 0
      },
      "text/plain": [
       "HBox(children=(IntProgress(value=0, description='Evaluation', max=740, style=ProgressStyle(description_width='…"
      ]
     },
     "metadata": {},
     "output_type": "display_data"
    },
    {
     "name": "stdout",
     "output_type": "stream",
     "text": [
      "    val BCE: 0.2753676272906002, confidence: 0.7703433360367667, roc_acc: 0.976736440681125, f1: 0.9048830111902341, mcc: 0.8041903442687932\n",
      "-----------------------------------------------\n",
      "Epoch:  19, train BCE: 0.0947\n"
     ]
    },
    {
     "data": {
      "application/vnd.jupyter.widget-view+json": {
       "model_id": "",
       "version_major": 2,
       "version_minor": 0
      },
      "text/plain": [
       "HBox(children=(IntProgress(value=0, description='Evaluation', max=740, style=ProgressStyle(description_width='…"
      ]
     },
     "metadata": {},
     "output_type": "display_data"
    },
    {
     "name": "stdout",
     "output_type": "stream",
     "text": [
      "    val BCE: 0.23857712913098086, confidence: 0.7731819410651527, roc_acc: 0.9787017102961637, f1: 0.9133838059797253, mcc: 0.8222196437328272\n",
      "-----------------------------------------------\n",
      "Epoch:  20, train BCE: 0.0915\n"
     ]
    },
    {
     "data": {
      "application/vnd.jupyter.widget-view+json": {
       "model_id": "",
       "version_major": 2,
       "version_minor": 0
      },
      "text/plain": [
       "HBox(children=(IntProgress(value=0, description='Evaluation', max=740, style=ProgressStyle(description_width='…"
      ]
     },
     "metadata": {},
     "output_type": "display_data"
    },
    {
     "name": "stdout",
     "output_type": "stream",
     "text": [
      "    val BCE: 0.22959544612959026, confidence: 0.785617734522844, roc_acc: 0.9794786093667425, f1: 0.917680559150919, mcc: 0.8313364177522237\n",
      "-----------------------------------------------\n",
      "Epoch:  21, train BCE: 0.0895\n"
     ]
    },
    {
     "data": {
      "application/vnd.jupyter.widget-view+json": {
       "model_id": "",
       "version_major": 2,
       "version_minor": 0
      },
      "text/plain": [
       "HBox(children=(IntProgress(value=0, description='Evaluation', max=740, style=ProgressStyle(description_width='…"
      ]
     },
     "metadata": {},
     "output_type": "display_data"
    },
    {
     "name": "stdout",
     "output_type": "stream",
     "text": [
      "    val BCE: 0.22441581004666758, confidence: 0.7816977561503109, roc_acc: 0.9822529356808695, f1: 0.9200359389038635, mcc: 0.836309622936252\n",
      "-----------------------------------------------\n",
      "Epoch:  22, train BCE: 0.0880\n"
     ]
    },
    {
     "data": {
      "application/vnd.jupyter.widget-view+json": {
       "model_id": "",
       "version_major": 2,
       "version_minor": 0
      },
      "text/plain": [
       "HBox(children=(IntProgress(value=0, description='Evaluation', max=740, style=ProgressStyle(description_width='…"
      ]
     },
     "metadata": {},
     "output_type": "display_data"
    },
    {
     "name": "stdout",
     "output_type": "stream",
     "text": [
      "    val BCE: 0.29358398537966374, confidence: 0.7734522844011895, roc_acc: 0.9785250625959202, f1: 0.9025524959134917, mcc: 0.7995347733482562\n",
      "-----------------------------------------------\n",
      "Epoch:  23, train BCE: 0.0853\n"
     ]
    },
    {
     "data": {
      "application/vnd.jupyter.widget-view+json": {
       "model_id": "",
       "version_major": 2,
       "version_minor": 0
      },
      "text/plain": [
       "HBox(children=(IntProgress(value=0, description='Evaluation', max=740, style=ProgressStyle(description_width='…"
      ]
     },
     "metadata": {},
     "output_type": "display_data"
    },
    {
     "name": "stdout",
     "output_type": "stream",
     "text": [
      "    val BCE: 0.32170429697896025, confidence: 0.7600702892673695, roc_acc: 0.9790504013089323, f1: 0.8929368029739777, mcc: 0.7793929077236448\n",
      "-----------------------------------------------\n",
      "Epoch:  24, train BCE: 0.0836\n"
     ]
    },
    {
     "data": {
      "application/vnd.jupyter.widget-view+json": {
       "model_id": "",
       "version_major": 2,
       "version_minor": 0
      },
      "text/plain": [
       "HBox(children=(IntProgress(value=0, description='Evaluation', max=740, style=ProgressStyle(description_width='…"
      ]
     },
     "metadata": {},
     "output_type": "display_data"
    },
    {
     "name": "stdout",
     "output_type": "stream",
     "text": [
      "    val BCE: 0.32594010525445394, confidence: 0.7534468775344688, roc_acc: 0.9788948022382586, f1: 0.8880128126154984, mcc: 0.7689236440536399\n",
      "-----------------------------------------------\n",
      "Epoch:  25, train BCE: 0.0859\n"
     ]
    },
    {
     "data": {
      "application/vnd.jupyter.widget-view+json": {
       "model_id": "",
       "version_major": 2,
       "version_minor": 0
      },
      "text/plain": [
       "HBox(children=(IntProgress(value=0, description='Evaluation', max=740, style=ProgressStyle(description_width='…"
      ]
     },
     "metadata": {},
     "output_type": "display_data"
    },
    {
     "name": "stdout",
     "output_type": "stream",
     "text": [
      "    val BCE: 0.3105500671163542, confidence: 0.7721005677210057, roc_acc: 0.978039994004064, f1: 0.8981527708437345, mcc: 0.790364325068241\n",
      "-----------------------------------------------\n",
      "Epoch:  26, train BCE: 0.0816\n"
     ]
    },
    {
     "data": {
      "application/vnd.jupyter.widget-view+json": {
       "model_id": "",
       "version_major": 2,
       "version_minor": 0
      },
      "text/plain": [
       "HBox(children=(IntProgress(value=0, description='Evaluation', max=740, style=ProgressStyle(description_width='…"
      ]
     },
     "metadata": {},
     "output_type": "display_data"
    },
    {
     "name": "stdout",
     "output_type": "stream",
     "text": [
      "    val BCE: 0.35148169259542505, confidence: 0.7627737226277372, roc_acc: 0.9744209452574113, f1: 0.8892746435213886, mcc: 0.7712251834938099\n",
      "-----------------------------------------------\n",
      "Epoch:  27, train BCE: 0.0810\n"
     ]
    },
    {
     "data": {
      "application/vnd.jupyter.widget-view+json": {
       "model_id": "7fa38ce44e26403db56340360d8077cb",
       "version_major": 2,
       "version_minor": 0
      },
      "text/plain": [
       "HBox(children=(IntProgress(value=0, description='Evaluation', max=740, style=ProgressStyle(description_width='…"
      ]
     },
     "metadata": {},
     "output_type": "display_data"
    },
    {
     "name": "stdout",
     "output_type": "stream",
     "text": [
      "failed to load file: yxiorfqcnp, folder: 41\n",
      "failed to load file: crsfsmblkf, folder: 41\n",
      "failed to load file: rvgedehoeg, folder: 41\n",
      "\r"
     ]
    },
    {
     "ename": "KeyboardInterrupt",
     "evalue": "",
     "output_type": "error",
     "traceback": [
      "\u001b[0;31m---------------------------------------------------------------------------\u001b[0m",
      "\u001b[0;31mKeyboardInterrupt\u001b[0m                         Traceback (most recent call last)",
      "\u001b[0;32m<ipython-input-16-828e3e51ca31>\u001b[0m in \u001b[0;36m<module>\u001b[0;34m()\u001b[0m\n\u001b[1;32m      1\u001b[0m \u001b[0;31m# epochs done is subtracted in case of interruption\u001b[0m\u001b[0;34m\u001b[0m\u001b[0;34m\u001b[0m\u001b[0m\n\u001b[0;32m----> 2\u001b[0;31m \u001b[0mfit\u001b[0m\u001b[0;34m(\u001b[0m\u001b[0mEPOCHS\u001b[0m \u001b[0;34m-\u001b[0m \u001b[0mepochs_done\u001b[0m\u001b[0;34m)\u001b[0m\u001b[0;34m\u001b[0m\u001b[0m\n\u001b[0m",
      "\u001b[0;32m<ipython-input-5-4e8103d3aed7>\u001b[0m in \u001b[0;36mfit\u001b[0;34m(epochs, cp, log)\u001b[0m\n\u001b[1;32m    112\u001b[0m             \u001b[0mprint\u001b[0m\u001b[0;34m(\u001b[0m\u001b[0;34m\"Epoch: %3d, train BCE: %.4f\"\u001b[0m \u001b[0;34m%\u001b[0m \u001b[0;34m(\u001b[0m\u001b[0mepochs_done\u001b[0m\u001b[0;34m,\u001b[0m \u001b[0mbce_loss\u001b[0m\u001b[0;34m)\u001b[0m\u001b[0;34m)\u001b[0m\u001b[0;34m\u001b[0m\u001b[0m\n\u001b[1;32m    113\u001b[0m \u001b[0;34m\u001b[0m\u001b[0m\n\u001b[0;32m--> 114\u001b[0;31m             \u001b[0mval_bce_loss\u001b[0m\u001b[0;34m,\u001b[0m \u001b[0mconfidence\u001b[0m\u001b[0;34m,\u001b[0m \u001b[0mroc_acc\u001b[0m\u001b[0;34m,\u001b[0m \u001b[0mf1\u001b[0m\u001b[0;34m,\u001b[0m \u001b[0mmcc\u001b[0m \u001b[0;34m=\u001b[0m \u001b[0mevaluate\u001b[0m\u001b[0;34m(\u001b[0m\u001b[0mnet\u001b[0m\u001b[0;34m,\u001b[0m \u001b[0mvdl\u001b[0m\u001b[0;34m,\u001b[0m \u001b[0mdevice\u001b[0m\u001b[0;34m=\u001b[0m\u001b[0mgpu\u001b[0m\u001b[0;34m,\u001b[0m \u001b[0msilent\u001b[0m\u001b[0;34m=\u001b[0m\u001b[0;32mFalse\u001b[0m\u001b[0;34m)\u001b[0m\u001b[0;34m\u001b[0m\u001b[0m\n\u001b[0m\u001b[1;32m    115\u001b[0m             \u001b[0mhistory\u001b[0m\u001b[0;34m[\u001b[0m\u001b[0;34m\"val_bce\"\u001b[0m\u001b[0;34m]\u001b[0m\u001b[0;34m.\u001b[0m\u001b[0mappend\u001b[0m\u001b[0;34m(\u001b[0m\u001b[0mval_bce_loss\u001b[0m\u001b[0;34m)\u001b[0m\u001b[0;34m\u001b[0m\u001b[0m\n\u001b[1;32m    116\u001b[0m             \u001b[0mhistory\u001b[0m\u001b[0;34m[\u001b[0m\u001b[0;34m\"confidence\"\u001b[0m\u001b[0;34m]\u001b[0m\u001b[0;34m.\u001b[0m\u001b[0mappend\u001b[0m\u001b[0;34m(\u001b[0m\u001b[0mconfidence\u001b[0m\u001b[0;34m)\u001b[0m\u001b[0;34m\u001b[0m\u001b[0m\n",
      "\u001b[0;32m<ipython-input-5-4e8103d3aed7>\u001b[0m in \u001b[0;36mevaluate\u001b[0;34m(net, data_loader, device, silent, hist_plot_name)\u001b[0m\n\u001b[1;32m     31\u001b[0m                 \u001b[0my_pred\u001b[0m \u001b[0;34m=\u001b[0m \u001b[0my_pred\u001b[0m\u001b[0;34m.\u001b[0m\u001b[0msqueeze\u001b[0m\u001b[0;34m(\u001b[0m\u001b[0;34m)\u001b[0m\u001b[0;34m\u001b[0m\u001b[0m\n\u001b[1;32m     32\u001b[0m \u001b[0;34m\u001b[0m\u001b[0m\n\u001b[0;32m---> 33\u001b[0;31m                 \u001b[0my_pred_np\u001b[0m \u001b[0;34m=\u001b[0m \u001b[0my_pred\u001b[0m\u001b[0;34m.\u001b[0m\u001b[0mcpu\u001b[0m\u001b[0;34m(\u001b[0m\u001b[0;34m)\u001b[0m\u001b[0;34m.\u001b[0m\u001b[0mnumpy\u001b[0m\u001b[0;34m(\u001b[0m\u001b[0;34m)\u001b[0m\u001b[0;34m\u001b[0m\u001b[0m\n\u001b[0m\u001b[1;32m     34\u001b[0m                 \u001b[0my_true_np\u001b[0m \u001b[0;34m=\u001b[0m \u001b[0my_true\u001b[0m\u001b[0;34m.\u001b[0m\u001b[0mcpu\u001b[0m\u001b[0;34m(\u001b[0m\u001b[0;34m)\u001b[0m\u001b[0;34m.\u001b[0m\u001b[0mnumpy\u001b[0m\u001b[0;34m(\u001b[0m\u001b[0;34m)\u001b[0m\u001b[0;34m\u001b[0m\u001b[0m\n\u001b[1;32m     35\u001b[0m \u001b[0;34m\u001b[0m\u001b[0m\n",
      "\u001b[0;31mKeyboardInterrupt\u001b[0m: "
     ]
    },
    {
     "data": {
      "image/png": "[encoded data removed]",
      "text/plain": [
       "<Figure size 432x288 with 1 Axes>"
      ]
     },
     "metadata": {},
     "output_type": "display_data"
    },
    {
     "data": {
      "image/png": "[encoded data removed]",
      "text/plain": [
       "<Figure size 432x288 with 1 Axes>"
      ]
     },
     "metadata": {},
     "output_type": "display_data"
    },
    {
     "data": {
      "image/png": "[encoded data removed]",
      "text/plain": [
       "<Figure size 432x288 with 1 Axes>"
      ]
     },
     "metadata": {},
     "output_type": "display_data"
    },
    {
     "data": {
      "image/png": "[encoded data removed]",
      "text/plain": [
       "<Figure size 432x288 with 1 Axes>"
      ]
     },
     "metadata": {},
     "output_type": "display_data"
    },
    {
     "data": {
      "image/png": "[encoded data removed]",
      "text/plain": [
       "<Figure size 432x288 with 1 Axes>"
      ]
     },
     "metadata": {},
     "output_type": "display_data"
    },
    {
     "data": {
      "image/png": "[encoded data removed]",
      "text/plain": [
       "<Figure size 432x288 with 1 Axes>"
      ]
     },
     "metadata": {},
     "output_type": "display_data"
    },
    {
     "data": {
      "image/png": "[encoded data removed]",
      "text/plain": [
       "<Figure size 432x288 with 1 Axes>"
      ]
     },
     "metadata": {},
     "output_type": "display_data"
    },
    {
     "data": {
      "image/png": "[encoded data removed]",
      "text/plain": [
       "<Figure size 432x288 with 1 Axes>"
      ]
     },
     "metadata": {},
     "output_type": "display_data"
    },
    {
     "data": {
      "image/png": "[encoded data removed]",
      "text/plain": [
       "<Figure size 432x288 with 1 Axes>"
      ]
     },
     "metadata": {},
     "output_type": "display_data"
    },
    {
     "data": {
      "image/png": "[encoded data removed]",
      "text/plain": [
       "<Figure size 432x288 with 1 Axes>"
      ]
     },
     "metadata": {},
     "output_type": "display_data"
    }
   ],
   "source": [
    "# epochs done is subtracted in case of interruption\n",
    "fit(EPOCHS - epochs_done)"
   ]
  },
  {
   "cell_type": "markdown",
   "metadata": {},
   "source": [
    "# LR Finder\n",
    "\n",
    "https://towardsdatascience.com/adaptive-and-cyclical-learning-rates-using-pytorch-2bf904d18dee\n",
    "\n",
    "https://github.com/TDehaene/blogposts/blob/master/learning_rates/notebooks/Model%20training.ipynb\n"
   ]
  },
  {
   "cell_type": "code",
   "execution_count": null,
   "metadata": {
    "scrolled": true
   },
   "outputs": [],
   "source": [
    "model = get_model(True)\n",
    "if GPUS > 1:\n",
    "  print(\"Let's use\", torch.cuda.device_count(), \"GPUs!\")\n",
    "  model = nn.DataParallel(model)\n",
    "tnet = model.to(gpu)\n",
    "tnet"
   ]
  },
  {
   "cell_type": "code",
   "execution_count": null,
   "metadata": {
    "scrolled": true
   },
   "outputs": [],
   "source": [
    "freeze_until(tnet, TRAIN_BACK_TO)\n",
    "START_LR = 1e-7\n",
    "END_LR = 0.1\n",
    "SMOOTHING_LR_LOSS = 0.05\n",
    "LR_FIND_EPOCHS = 2\n",
    "lr_lambda = lambda x: math.exp(x * math.log(END_LR / START_LR) / (LR_FIND_EPOCHS * len(tdl)))\n",
    "optimizer = get_optimizer(START_L                                                                                                                                                                                                                                                                                                                                                                                                                                                                                                                                                                                                                                                                                                                                                                                                                                                                                                                                                                                                                                                                                                                                                                                                                                                                                                                                                                                                                                                                                                                                                                                                                                                                                                                                                                                                                                                                                                                                                                                                                                                                                                                                                                                                                                                                                                                                                                                                                                                                                                                                                                                                                                                                                                                                                                                                                                                                                                                                                                                                                                                                                                                                                                                                                                                                                                                                                                                                                                                                                                                                                                                                                                                                                                                                                                                                                                                                                                                                                                                                                                                                                                                                                                                                                                                                                                                                                                                                                                                                                                                                                                                                                                                                                                                                                                                                                                                                                                                                                                                                                                                                                                                                                                                                                                                                                                                                                                                                                                                                                                                                                                                                                                                                                                                                                                                                                                                                                                                                                                                                                                                                                                                                                                                                                                                                                                                                                                                                                                                                                                                                                                                                                                                                                                                                                                                                                                                                                                                                                                                                                                                                                                                                                                                                                                                                                                                                                                                                                                                                                                                                                                                                                                                                                                                                                                                                                                                                                                                                                                                                                                                                                                                                                                                                                                                                                                                                                                                                                                                                                                                                                                                                                                                                                                                                                                                                                                                                                                                                                                                                                                                                                                                                                                                                                                                                                                                                                                                                                                                                                                                                                                                                                                                                                                                                                                                                                                                                                                                                                                                                                                                                                                                                                                                                                                                                                                                                                                                                                                                                                                                                                                                                                                                                                                                                                                                                                                                                                                                                                                                                                                                                                                                                                                                                                                                                                                                                                                                                                                                                                                                                                                                                                                                                                                                                                                                                                                                                                                                                                                                                                                                                                                                                                                                                                                                                                                                                                                                                                                                                                                                                                                                                                                                                                                                                                                                                                                                                                                                                                                                                                                                                                                                                                                                                                                                                                                                                                                                                                                                                                                                                                                                                                                                                                                                                                                                                                                                                                                                                                                                                                                                                                                                                                                                                                                                                                                                                                                                                                                                                                                                                                                                                                                                                                                                                                                                                                                                                                                                                                                                                                                                                                                                                                                                                                                                                                                                                                                                                                                                                                                                                                                                                                                                                                                                                                                                                                                                                                                                                                                                                                                                                                                                                                                                                                                                                                                                                                                                                                                                                                                                                                                                                                                                                                                                                                                                                                                                                                                                                                                                                                                                                                                                                                                                                                                                                                                                                                                                                                                                                                                                                                                                                                                                                                                                                                                                                                                                                                                                                                                                                                                                                                                                                                                                                                                                                                                                                                                                                                                                                                                                                                                                                                                                                                                                                                                                                                                                                                                                                                                                                                                                                                                                                                                                                                                                                                                                                                                                                                                                                                                                                                                                                                                                                                                                                                                                                                                                                                                                                                                                                                                                                                                                                                                                                                                                                                                                                                                                                                                                                                                                                                                                                                                                                                                                                                                                                                                                                                                                                                                                                                                                                                                                                                                                                                                                                                                                                                                                                                                                                                                                                                                                                                                                                                                                                                                                                                                                                                                                                                                                                                                                                                                                                                                                                                                                                                                                                                                                                                                                                                                                                                                                                                                                                                                                                                                                                                                                                                                                                                                                                                                                                                                                                                                                                                                                                                                                                                                                                                                                                                                                                                                                                                                                                                                                                                                                                                                                                                                                                                                                                                                                                                                                                                                                                                                                                                                                                                                                                                                                                                                                                                                                                                                                                                                                                                                                                                                                                                                                                                                                                                                                                                                                                                                                                                                                                                                                                                                                                                                                                                                                                                                                                                                                                                                                                                                                                                                                                                                                                                                                                                                                                                                                                                                                                                                                                                                                                                                                                                                                                                                                                                                                                                                                                                                                                                                                                                                                                                                                                                                                                                                                                                                                                                                                                                                                                                                                                                                                                                                                                                                                                                                                                                                                                                                                                                                                                                                                                                                                                                                                                                                                                                                                                                                                                                                                                                                                                                                                                                                                                                                                                                                                                                                                                                                                                                                                                                                                                                                                                                                                                                                                                                                                                                                                                                                                                                                                                                                                                                                                                                                                                                                                                                                                                                                                                                                                                                                                                                                                                                                                                                                                                                                                                                                                                                                                                                                                                                                                                                                                                                                                                                                                                                                                                                                                                                                                                                                                                                                                                                                                                                                                                                                                                                                                                                                                                                                                                                                                                                                                                                                                                                                                                                                                                                                                                                                                                                                                                                                                                                                                                                                                                                                                                                                                                                                                                                                                                                                                                                                                                                                                                                                                                                                                                                                                                                                                                                                                                                                                                                                                                                                                                                                                                                                                                                                                                                                                                                                                                                                                                                                                                                                                                                                                                                                                                                                                                                                                                                                                                                                                                                                                                                                                                                                                                                                                                                                                                                                                                                                                                                                                                                                                                                                                                                                                                                                                                                                                                                                                                                                                                                                                                                                                                                                                                                                                                                                                                                                                                                                                                                                                                                                                                                                                                                                                                                                                                                                                                                                                                                                                                                                                                                                                                                                                                                                                                                                                                                                                                                                                                                                                                                                                                                                                                                                                                                                                                                                                                                                                                                                                                                                                                                                                                                                                                                                                                                                                                                                                                                                                                                                                                                                                                                                                                                                                                                                                                                                                                                                                                                                                                                                                                                                                                                                                                                                                                                                                                                                                                                                                                                                                                                                                                                                                                                                                                                                                                                                                                                                                                                                                                                                                                                                                                                                                                                                                                                                                                                                                                                                                                                                                                                                                                                                                                                                                                                                                                                                                                                                                                                                                                                                                                                                                                                                                                                                                                                                                                                                                                                                                                                                                                                                                                                                                                                                                                                                                                                                                                                                                                                                                                                                                                                                                                                                                                                                                                                                                                                                                                                                                                                                                                                                                                                                                                                                                                                                                                                                                                                                                                                                                                                                                                                                                                                                                                                                                                                                                                                                                                                                                                                                                                                                                                                                                                                                                                                                                                                                                                                                                                                                                                                                                                                                                                                                                                                                                                                                                                                                                                                                                                                                                                                                                                                                                                                                                                                                                                                                                                                                                                                                                                                                                                                                                                                                                                                                                                                                                                                                                                                                                                                                                                                                                                                                                                                                                                                                                                                                                                                                                                                                                                                                                                                                                                                                                                                                                                                                                                                                                                                                                                                                                                                                                                                                                                                                                                                                                                                                                                                                                                                                                                                                                                                                                                                                                                                                                                                                                                                                                                                                                                                                                                                                                                                                                                                                                                                                                                                                                                                                                                                                                                                                                                                                                                                                                                                                                                                                                                                                                                                                                                                                                                                                                                                                                                                         R, tnet)\n",
    "find_lr_scheduler = torch.optim.lr_scheduler.LambdaLR(optimizer, lr_lambda)"
   ]
  },
  {
   "cell_type": "code",
   "execution_count": null,
   "metadata": {
    "scrolled": true
   },
   "outputs": [],
   "source": [
    "def lr_finder(epochs, cp=True, log=True):\n",
    "    lr_history = { \"train_bce\": [],\"lr_loss\": [], \"lr_steps\": [] }\n",
    "    iteration = 0\n",
    "    epochs_done = 0\n",
    "    with tqdm(total=len(tdl), leave=False) as pbar:\n",
    "        for epoch in range(epochs):\n",
    "            pbar.reset()\n",
    "            pbar.set_description(\"Epoch %d\" % (epochs_done + 1))\n",
    "            bce_loss = 0\n",
    "            total_examples = 0\n",
    "            tnet.train(True)\n",
    "            for batch_idx, data in enumerate(tdl):\n",
    "                batch_size = data[0].shape[0]\n",
    "                x = data[0].to(gpu)\n",
    "                y_true = data[1].to(gpu).float()\n",
    "                optimizer.zero_grad()\n",
    "                y_pred = tnet(x)\n",
    "                y_pred = y_pred.squeeze()\n",
    "                loss = F.binary_cross_entropy_with_logits(y_pred, y_true)\n",
    "                loss.backward()\n",
    "                optimizer.step()\n",
    "                batch_bce = loss.item()\n",
    "                bce_loss += batch_bce * batch_size\n",
    "                lr_history[\"train_bce\"].append(batch_bce)\n",
    "                total_examples += batch_size\n",
    "                iloss = round(bce_loss / total_examples, 4)\n",
    "                pbar.set_description(f\"Epoch {epochs_done + 1} (loss:{iloss}) \")\n",
    "                \n",
    "                ## LR scheduler\n",
    "                find_lr_scheduler.step()\n",
    "                lr_step = optimizer.state_dict()[\"param_groups\"][0][\"lr\"]\n",
    "                lr_history[\"lr_steps\"].append(lr_step)\n",
    "\n",
    "                # smooth the loss\n",
    "                if iteration == 0:\n",
    "                  lr_history[\"lr_loss\"].append(batch_bce)\n",
    "                else:\n",
    "                  lr_loss = SMOOTHING_LR_LOSS  * batch_bce \\\n",
    "                        + (1 - SMOOTHING_LR_LOSS) * lr_history[\"lr_loss\"][-1]\n",
    "                  lr_history[\"lr_loss\"].append(lr_loss)\n",
    "        \n",
    "                iteration += 1\n",
    "                pbar.update()\n",
    "\n",
    "            bce_loss /= total_examples\n",
    "            epochs_done += 1\n",
    "            print(\"Epoch: %3d, train BCE: %.4f\" % (epochs_done, bce_loss))\n",
    "\n",
    "    return lr_history"
   ]
  },
  {
   "cell_type": "code",
   "execution_count": null,
   "metadata": {
    "scrolled": true
   },
   "outputs": [],
   "source": [
    "h = lr_finder(LR_FIND_EPOCHS)\n",
    "del tnet\n",
    "del optimizer"
   ]
  },
  {
   "cell_type": "code",
   "execution_count": null,
   "metadata": {},
   "outputs": [],
   "source": []
  },
  {
   "cell_type": "code",
   "execution_count": null,
   "metadata": {},
   "outputs": [],
   "source": [
    "fig = plt.figure(figsize=(20,10))\n",
    "plt.ylabel(\"loss\")\n",
    "plt.xlabel(\"lr\")\n",
    "plt.xscale(\"log\")\n",
    "plt.plot(h[\"lr_steps\"], h[\"lr_loss\"])\n",
    "plt.show()"
   ]
  },
  {
   "cell_type": "code",
   "execution_count": null,
   "metadata": {},
   "outputs": [],
   "source": [
    "lr_max = 2 * (10 ** -2) / 10\n",
    "lr_max"
   ]
  },
  {
   "cell_type": "code",
   "execution_count": null,
   "metadata": {},
   "outputs": [],
   "source": [
    "lr_min = round(lr_max / 6, 7)\n",
    "lr_min "
   ]
  },
  {
   "cell_type": "code",
   "execution_count": null,
   "metadata": {},
   "outputs": [],
   "source": [
    "LR = 9e-5\n",
    "LR"
   ]
  },
  {
   "cell_type": "markdown",
   "metadata": {},
   "source": [
    "# Metrics"
   ]
  },
  {
   "cell_type": "code",
   "execution_count": null,
   "metadata": {},
   "outputs": [],
   "source": [
    "# name = 'inattentive_Jangmo-o'\n",
    "epochs_done"
   ]
  },
  {
   "cell_type": "code",
   "execution_count": 19,
   "metadata": {},
   "outputs": [
    {
     "name": "stderr",
     "output_type": "stream",
     "text": [
      "Using cache found in /home/ec2-user/.cache/torch/hub/pytorch_vision_v0.5.0\n"
     ]
    },
    {
     "name": "stdout",
     "output_type": "stream",
     "text": [
      "20 0.22959544612959026 0.785617734522844\n"
     ]
    }
   ],
   "source": [
    "model, epoch, loss, conf = load_model_from_checkpoint(\"risque_Espeon.e20.ckpt.pth\")\n",
    "print(epoch, loss, conf)\n",
    "if GPUS > 1:\n",
    "  print(\"Let's use\", torch.cuda.device_count(), \"GPUs!\")\n",
    "  model = nn.DataParallel(model)\n",
    "net = model.to(gpu)"
   ]
  },
  {
   "cell_type": "code",
   "execution_count": null,
   "metadata": {},
   "outputs": [],
   "source": [
    "print(epoch, loss, conf)"
   ]
  },
  {
   "cell_type": "code",
   "execution_count": null,
   "metadata": {
    "scrolled": true
   },
   "outputs": [],
   "source": [
    "plt.plot(history[\"train_bce\"])"
   ]
  },
  {
   "cell_type": "code",
   "execution_count": null,
   "metadata": {
    "scrolled": true
   },
   "outputs": [],
   "source": [
    "plt.plot(history[\"val_bce\"])\n",
    "plt.grid(True)"
   ]
  },
  {
   "cell_type": "code",
   "execution_count": null,
   "metadata": {},
   "outputs": [],
   "source": [
    "plt.plot(history[\"confidence\"])\n",
    "plt.grid(True)"
   ]
  },
  {
   "cell_type": "code",
   "execution_count": 21,
   "metadata": {
    "scrolled": true
   },
   "outputs": [
    {
     "data": {
      "application/vnd.jupyter.widget-view+json": {
       "model_id": "",
       "version_major": 2,
       "version_minor": 0
      },
      "text/plain": [
       "HBox(children=(IntProgress(value=0, description='Evaluation', max=740, style=ProgressStyle(description_width='…"
      ]
     },
     "metadata": {},
     "output_type": "display_data"
    },
    {
     "name": "stdout",
     "output_type": "stream",
     "text": [
      "\r"
     ]
    },
    {
     "data": {
      "text/plain": [
       "(0.23933461228174369,\n",
       " 0.7881859962151933,\n",
       " 0.9782475568789881,\n",
       " 0.9125661888157045,\n",
       " 0.8205543599444584)"
      ]
     },
     "execution_count": 21,
     "metadata": {},
     "output_type": "execute_result"
    },
    {
     "data": {
      "image/png": "[encoded data removed]",
      "text/plain": [
       "<Figure size 432x288 with 1 Axes>"
      ]
     },
     "metadata": {},
     "output_type": "display_data"
    }
   ],
   "source": [
    "metrics = evaluate(net, vdl, device=gpu, silent=False, hist_plot_name='temp_eval')\n",
    "metrics"
   ]
  },
  {
   "cell_type": "code",
   "execution_count": 20,
   "metadata": {},
   "outputs": [
    {
     "data": {
      "application/vnd.jupyter.widget-view+json": {
       "model_id": "",
       "version_major": 2,
       "version_minor": 0
      },
      "text/plain": [
       "HBox(children=(IntProgress(value=0, description='Evaluation', max=40, style=ProgressStyle(description_width='i…"
      ]
     },
     "metadata": {},
     "output_type": "display_data"
    },
    {
     "name": "stdout",
     "output_type": "stream",
     "text": [
      "\r"
     ]
    },
    {
     "data": {
      "text/plain": [
       "(0.2955771998385899, 0.7, 0.954275, 0.873170731707317, 0.7409267379962031)"
      ]
     },
     "execution_count": 20,
     "metadata": {},
     "output_type": "execute_result"
    },
    {
     "data": {
      "image/png": "[encoded data removed]",
      "text/plain": [
       "<Figure size 432x288 with 1 Axes>"
      ]
     },
     "metadata": {},
     "output_type": "display_data"
    }
   ],
   "source": [
    "tmetrics = evaluate(net, testdl, device=gpu, silent=False, hist_plot_name='temp_eval')\n",
    "tmetrics"
   ]
  },
  {
   "cell_type": "markdown",
   "metadata": {
    "scrolled": true
   },
   "source": [
    "# Export "
   ]
  },
  {
   "cell_type": "code",
   "execution_count": 22,
   "metadata": {
    "scrolled": true
   },
   "outputs": [
    {
     "name": "stdout",
     "output_type": "stream",
     "text": [
      "saved model\n"
     ]
    }
   ],
   "source": [
    "def export():\n",
    "    torch.save(net, f\"{name}.e{epoch}.all.pth\")\n",
    "    print('saved model')\n",
    "export()\n"
   ]
  },
  {
   "cell_type": "code",
   "execution_count": null,
   "metadata": {
    "scrolled": true
   },
   "outputs": [],
   "source": [
    "import gc\n",
    "try:\n",
    "    del net\n",
    "    del tdl\n",
    "    del vdl\n",
    "    del optimizer\n",
    "except:\n",
    "    pass\n",
    "torch.cuda.empty_cache()\n",
    "gc.collect() \n"
   ]
  },
  {
   "cell_type": "code",
   "execution_count": null,
   "metadata": {
    "scrolled": true
   },
   "outputs": [],
   "source": [
    "import json\n",
    "with open('adjs.json', 'w') as filehandle:\n",
    "    json.dump(adjs, filehandle)\n",
    "with open('pnames.json', 'w') as filehandle:\n",
    "    json.dump(pnames, filehandle)"
   ]
  },
  {
   "cell_type": "code",
   "execution_count": null,
   "metadata": {
    "scrolled": true
   },
   "outputs": [],
   "source": [
    "with open('adjs.json', 'r') as filehandle:\n",
    "    adx = json.load(filehandle)\n",
    "print(adx)"
   ]
  },
  {
   "cell_type": "markdown",
   "metadata": {},
   "source": [
    "# Experiments log\n",
    "\n",
    "https://docs.google.com/spreadsheets/d/1lfKEGH5-cUc8vP3E7b3l6FSzUVimPj-6c9ZEgVWJ96o/edit?usp=sharing"
   ]
  }
 ],
 "metadata": {
  "kernelspec": {
   "display_name": "Environment (conda_pytorch_p36)",
   "language": "python",
   "name": "conda_pytorch_p36"
  },
  "language_info": {
   "codemirror_mode": {
    "name": "ipython",
    "version": 3
   },
   "file_extension": ".py",
   "mimetype": "text/x-python",
   "name": "python",
   "nbconvert_exporter": "python",
   "pygments_lexer": "ipython3",
   "version": "3.6.5"
  }
 },
 "nbformat": 4,
 "nbformat_minor": 1
}
